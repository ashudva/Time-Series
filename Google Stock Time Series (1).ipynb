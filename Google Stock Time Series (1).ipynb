{
 "cells": [
  {
   "cell_type": "code",
   "execution_count": 2,
   "metadata": {},
   "outputs": [],
   "source": [
    "import pandas as pd\n",
    "import matplotlib.pyplot as plt\n",
    "import seaborn as sns\n",
    "import numpy as np"
   ]
  },
  {
   "cell_type": "code",
   "execution_count": 3,
   "metadata": {},
   "outputs": [],
   "source": [
    "# import csv file of google stock price\n",
    "df_train=pd.read_csv('Google_Stock_Price_Train.csv',header=0,parse_dates=[0])"
   ]
  },
  {
   "cell_type": "code",
   "execution_count": 4,
   "metadata": {},
   "outputs": [
    {
     "data": {
      "text/html": [
       "<div>\n",
       "<style scoped>\n",
       "    .dataframe tbody tr th:only-of-type {\n",
       "        vertical-align: middle;\n",
       "    }\n",
       "\n",
       "    .dataframe tbody tr th {\n",
       "        vertical-align: top;\n",
       "    }\n",
       "\n",
       "    .dataframe thead th {\n",
       "        text-align: right;\n",
       "    }\n",
       "</style>\n",
       "<table border=\"1\" class=\"dataframe\">\n",
       "  <thead>\n",
       "    <tr style=\"text-align: right;\">\n",
       "      <th></th>\n",
       "      <th>Date</th>\n",
       "      <th>Open</th>\n",
       "      <th>High</th>\n",
       "      <th>Low</th>\n",
       "      <th>Close</th>\n",
       "      <th>Volume</th>\n",
       "    </tr>\n",
       "  </thead>\n",
       "  <tbody>\n",
       "    <tr>\n",
       "      <th>0</th>\n",
       "      <td>2012-01-03</td>\n",
       "      <td>325.25</td>\n",
       "      <td>332.83</td>\n",
       "      <td>324.97</td>\n",
       "      <td>663.59</td>\n",
       "      <td>7,380,500</td>\n",
       "    </tr>\n",
       "    <tr>\n",
       "      <th>1</th>\n",
       "      <td>2012-01-04</td>\n",
       "      <td>331.27</td>\n",
       "      <td>333.87</td>\n",
       "      <td>329.08</td>\n",
       "      <td>666.45</td>\n",
       "      <td>5,749,400</td>\n",
       "    </tr>\n",
       "    <tr>\n",
       "      <th>2</th>\n",
       "      <td>2012-01-05</td>\n",
       "      <td>329.83</td>\n",
       "      <td>330.75</td>\n",
       "      <td>326.89</td>\n",
       "      <td>657.21</td>\n",
       "      <td>6,590,300</td>\n",
       "    </tr>\n",
       "    <tr>\n",
       "      <th>3</th>\n",
       "      <td>2012-01-06</td>\n",
       "      <td>328.34</td>\n",
       "      <td>328.77</td>\n",
       "      <td>323.68</td>\n",
       "      <td>648.24</td>\n",
       "      <td>5,405,900</td>\n",
       "    </tr>\n",
       "    <tr>\n",
       "      <th>4</th>\n",
       "      <td>2012-01-09</td>\n",
       "      <td>322.04</td>\n",
       "      <td>322.29</td>\n",
       "      <td>309.46</td>\n",
       "      <td>620.76</td>\n",
       "      <td>11,688,800</td>\n",
       "    </tr>\n",
       "  </tbody>\n",
       "</table>\n",
       "</div>"
      ],
      "text/plain": [
       "        Date    Open    High     Low   Close      Volume\n",
       "0 2012-01-03  325.25  332.83  324.97  663.59   7,380,500\n",
       "1 2012-01-04  331.27  333.87  329.08  666.45   5,749,400\n",
       "2 2012-01-05  329.83  330.75  326.89  657.21   6,590,300\n",
       "3 2012-01-06  328.34  328.77  323.68  648.24   5,405,900\n",
       "4 2012-01-09  322.04  322.29  309.46  620.76  11,688,800"
      ]
     },
     "execution_count": 4,
     "metadata": {},
     "output_type": "execute_result"
    }
   ],
   "source": [
    "df_train.head()"
   ]
  },
  {
   "cell_type": "code",
   "execution_count": 5,
   "metadata": {},
   "outputs": [
    {
     "name": "stdout",
     "output_type": "stream",
     "text": [
      "<class 'pandas.core.frame.DataFrame'>\n",
      "RangeIndex: 1258 entries, 0 to 1257\n",
      "Data columns (total 6 columns):\n",
      " #   Column  Non-Null Count  Dtype         \n",
      "---  ------  --------------  -----         \n",
      " 0   Date    1258 non-null   datetime64[ns]\n",
      " 1   Open    1258 non-null   float64       \n",
      " 2   High    1258 non-null   float64       \n",
      " 3   Low     1258 non-null   float64       \n",
      " 4   Close   1258 non-null   object        \n",
      " 5   Volume  1258 non-null   object        \n",
      "dtypes: datetime64[ns](1), float64(3), object(2)\n",
      "memory usage: 59.1+ KB\n"
     ]
    }
   ],
   "source": [
    "df_train.info()"
   ]
  },
  {
   "cell_type": "code",
   "execution_count": 6,
   "metadata": {},
   "outputs": [
    {
     "data": {
      "text/plain": [
       "Volume    0\n",
       "Close     0\n",
       "Low       0\n",
       "High      0\n",
       "Open      0\n",
       "Date      0\n",
       "dtype: int64"
      ]
     },
     "execution_count": 6,
     "metadata": {},
     "output_type": "execute_result"
    }
   ],
   "source": [
    "df_train.isnull().sum().sort_values(ascending=False)"
   ]
  },
  {
   "cell_type": "code",
   "execution_count": 7,
   "metadata": {},
   "outputs": [
    {
     "data": {
      "text/plain": [
       "dtype('<M8[ns]')"
      ]
     },
     "execution_count": 7,
     "metadata": {},
     "output_type": "execute_result"
    }
   ],
   "source": [
    "df_train.Date.dtypes"
   ]
  },
  {
   "cell_type": "markdown",
   "metadata": {},
   "source": [
    "## Data Visualization"
   ]
  },
  {
   "cell_type": "markdown",
   "metadata": {},
   "source": [
    "### Line plot"
   ]
  },
  {
   "cell_type": "code",
   "execution_count": 8,
   "metadata": {},
   "outputs": [],
   "source": [
    "df=df_train.copy()"
   ]
  },
  {
   "cell_type": "code",
   "execution_count": 9,
   "metadata": {},
   "outputs": [
    {
     "data": {
      "text/plain": [
       "<matplotlib.axes._subplots.AxesSubplot at 0x1897d7e7370>"
      ]
     },
     "execution_count": 9,
     "metadata": {},
     "output_type": "execute_result"
    },
    {
     "data": {
      "image/png": "[encoded data removed]",
      "text/plain": [
       "<Figure size 432x288 with 1 Axes>"
      ]
     },
     "metadata": {
      "needs_background": "light"
     },
     "output_type": "display_data"
    }
   ],
   "source": [
    "df['Open'].plot()"
   ]
  },
  {
   "cell_type": "code",
   "execution_count": 10,
   "metadata": {},
   "outputs": [],
   "source": [
    "# now set index of date then plot \n",
    "df.index=df['Date']"
   ]
  },
  {
   "cell_type": "code",
   "execution_count": 11,
   "metadata": {},
   "outputs": [
    {
     "data": {
      "text/plain": [
       "<matplotlib.axes._subplots.AxesSubplot at 0x1897df3eca0>"
      ]
     },
     "execution_count": 11,
     "metadata": {},
     "output_type": "execute_result"
    },
    {
     "data": {
      "image/png": "[encoded data removed]",
      "text/plain": [
       "<Figure size 432x288 with 1 Axes>"
      ]
     },
     "metadata": {
      "needs_background": "light"
     },
     "output_type": "display_data"
    }
   ],
   "source": [
    "df['Open'].plot()"
   ]
  },
  {
   "cell_type": "code",
   "execution_count": 12,
   "metadata": {},
   "outputs": [
    {
     "data": {
      "text/html": [
       "<div>\n",
       "<style scoped>\n",
       "    .dataframe tbody tr th:only-of-type {\n",
       "        vertical-align: middle;\n",
       "    }\n",
       "\n",
       "    .dataframe tbody tr th {\n",
       "        vertical-align: top;\n",
       "    }\n",
       "\n",
       "    .dataframe thead th {\n",
       "        text-align: right;\n",
       "    }\n",
       "</style>\n",
       "<table border=\"1\" class=\"dataframe\">\n",
       "  <thead>\n",
       "    <tr style=\"text-align: right;\">\n",
       "      <th></th>\n",
       "      <th>Date</th>\n",
       "      <th>Open</th>\n",
       "      <th>High</th>\n",
       "      <th>Low</th>\n",
       "      <th>Close</th>\n",
       "      <th>Volume</th>\n",
       "    </tr>\n",
       "    <tr>\n",
       "      <th>Date</th>\n",
       "      <th></th>\n",
       "      <th></th>\n",
       "      <th></th>\n",
       "      <th></th>\n",
       "      <th></th>\n",
       "      <th></th>\n",
       "    </tr>\n",
       "  </thead>\n",
       "  <tbody>\n",
       "    <tr>\n",
       "      <th>2012-01-03</th>\n",
       "      <td>2012-01-03</td>\n",
       "      <td>325.25</td>\n",
       "      <td>332.83</td>\n",
       "      <td>324.97</td>\n",
       "      <td>663.59</td>\n",
       "      <td>7,380,500</td>\n",
       "    </tr>\n",
       "    <tr>\n",
       "      <th>2012-01-04</th>\n",
       "      <td>2012-01-04</td>\n",
       "      <td>331.27</td>\n",
       "      <td>333.87</td>\n",
       "      <td>329.08</td>\n",
       "      <td>666.45</td>\n",
       "      <td>5,749,400</td>\n",
       "    </tr>\n",
       "    <tr>\n",
       "      <th>2012-01-05</th>\n",
       "      <td>2012-01-05</td>\n",
       "      <td>329.83</td>\n",
       "      <td>330.75</td>\n",
       "      <td>326.89</td>\n",
       "      <td>657.21</td>\n",
       "      <td>6,590,300</td>\n",
       "    </tr>\n",
       "    <tr>\n",
       "      <th>2012-01-06</th>\n",
       "      <td>2012-01-06</td>\n",
       "      <td>328.34</td>\n",
       "      <td>328.77</td>\n",
       "      <td>323.68</td>\n",
       "      <td>648.24</td>\n",
       "      <td>5,405,900</td>\n",
       "    </tr>\n",
       "    <tr>\n",
       "      <th>2012-01-09</th>\n",
       "      <td>2012-01-09</td>\n",
       "      <td>322.04</td>\n",
       "      <td>322.29</td>\n",
       "      <td>309.46</td>\n",
       "      <td>620.76</td>\n",
       "      <td>11,688,800</td>\n",
       "    </tr>\n",
       "  </tbody>\n",
       "</table>\n",
       "</div>"
      ],
      "text/plain": [
       "                 Date    Open    High     Low   Close      Volume\n",
       "Date                                                             \n",
       "2012-01-03 2012-01-03  325.25  332.83  324.97  663.59   7,380,500\n",
       "2012-01-04 2012-01-04  331.27  333.87  329.08  666.45   5,749,400\n",
       "2012-01-05 2012-01-05  329.83  330.75  326.89  657.21   6,590,300\n",
       "2012-01-06 2012-01-06  328.34  328.77  323.68  648.24   5,405,900\n",
       "2012-01-09 2012-01-09  322.04  322.29  309.46  620.76  11,688,800"
      ]
     },
     "execution_count": 12,
     "metadata": {},
     "output_type": "execute_result"
    }
   ],
   "source": [
    "# Zooming In\n",
    "df1=df[(df.Date>='2012-01-03') & (df.Date<='2012-12-30')]\n",
    "df1.head()"
   ]
  },
  {
   "cell_type": "code",
   "execution_count": 13,
   "metadata": {},
   "outputs": [
    {
     "data": {
      "text/plain": [
       "<matplotlib.axes._subplots.AxesSubplot at 0x1897dfc6460>"
      ]
     },
     "execution_count": 13,
     "metadata": {},
     "output_type": "execute_result"
    },
    {
     "data": {
      "image/png": "[encoded data removed]",
      "text/plain": [
       "<Figure size 432x288 with 1 Axes>"
      ]
     },
     "metadata": {
      "needs_background": "light"
     },
     "output_type": "display_data"
    }
   ],
   "source": [
    "df1.Open.plot()"
   ]
  },
  {
   "cell_type": "markdown",
   "metadata": {},
   "source": [
    "### Adding Trend Line"
   ]
  },
  {
   "cell_type": "code",
   "execution_count": 14,
   "metadata": {},
   "outputs": [
    {
     "data": {
      "text/plain": [
       "<matplotlib.axes._subplots.AxesSubplot at 0x1897df03fa0>"
      ]
     },
     "execution_count": 14,
     "metadata": {},
     "output_type": "execute_result"
    },
    {
     "data": {
      "image/png": "[encoded data removed]",
      "text/plain": [
       "<Figure size 432x288 with 1 Axes>"
      ]
     },
     "metadata": {
      "needs_background": "light"
     },
     "output_type": "display_data"
    }
   ],
   "source": [
    "sns.regplot(df_train.index,df.Open,order=2)"
   ]
  },
  {
   "cell_type": "markdown",
   "metadata": {},
   "source": [
    "### Remove Seasonability"
   ]
  },
  {
   "cell_type": "code",
   "execution_count": 15,
   "metadata": {},
   "outputs": [
    {
     "data": {
      "text/html": [
       "<div>\n",
       "<style scoped>\n",
       "    .dataframe tbody tr th:only-of-type {\n",
       "        vertical-align: middle;\n",
       "    }\n",
       "\n",
       "    .dataframe tbody tr th {\n",
       "        vertical-align: top;\n",
       "    }\n",
       "\n",
       "    .dataframe thead th {\n",
       "        text-align: right;\n",
       "    }\n",
       "</style>\n",
       "<table border=\"1\" class=\"dataframe\">\n",
       "  <thead>\n",
       "    <tr style=\"text-align: right;\">\n",
       "      <th></th>\n",
       "      <th>Date</th>\n",
       "      <th>Open</th>\n",
       "      <th>High</th>\n",
       "      <th>Low</th>\n",
       "      <th>Close</th>\n",
       "      <th>Volume</th>\n",
       "      <th>year</th>\n",
       "    </tr>\n",
       "    <tr>\n",
       "      <th>Date</th>\n",
       "      <th></th>\n",
       "      <th></th>\n",
       "      <th></th>\n",
       "      <th></th>\n",
       "      <th></th>\n",
       "      <th></th>\n",
       "      <th></th>\n",
       "    </tr>\n",
       "  </thead>\n",
       "  <tbody>\n",
       "    <tr>\n",
       "      <th>2012-01-03</th>\n",
       "      <td>2012-01-03</td>\n",
       "      <td>325.25</td>\n",
       "      <td>332.83</td>\n",
       "      <td>324.97</td>\n",
       "      <td>663.59</td>\n",
       "      <td>7,380,500</td>\n",
       "      <td>2012</td>\n",
       "    </tr>\n",
       "    <tr>\n",
       "      <th>2012-01-04</th>\n",
       "      <td>2012-01-04</td>\n",
       "      <td>331.27</td>\n",
       "      <td>333.87</td>\n",
       "      <td>329.08</td>\n",
       "      <td>666.45</td>\n",
       "      <td>5,749,400</td>\n",
       "      <td>2012</td>\n",
       "    </tr>\n",
       "    <tr>\n",
       "      <th>2012-01-05</th>\n",
       "      <td>2012-01-05</td>\n",
       "      <td>329.83</td>\n",
       "      <td>330.75</td>\n",
       "      <td>326.89</td>\n",
       "      <td>657.21</td>\n",
       "      <td>6,590,300</td>\n",
       "      <td>2012</td>\n",
       "    </tr>\n",
       "    <tr>\n",
       "      <th>2012-01-06</th>\n",
       "      <td>2012-01-06</td>\n",
       "      <td>328.34</td>\n",
       "      <td>328.77</td>\n",
       "      <td>323.68</td>\n",
       "      <td>648.24</td>\n",
       "      <td>5,405,900</td>\n",
       "      <td>2012</td>\n",
       "    </tr>\n",
       "    <tr>\n",
       "      <th>2012-01-09</th>\n",
       "      <td>2012-01-09</td>\n",
       "      <td>322.04</td>\n",
       "      <td>322.29</td>\n",
       "      <td>309.46</td>\n",
       "      <td>620.76</td>\n",
       "      <td>11,688,800</td>\n",
       "      <td>2012</td>\n",
       "    </tr>\n",
       "  </tbody>\n",
       "</table>\n",
       "</div>"
      ],
      "text/plain": [
       "                 Date    Open    High     Low   Close      Volume  year\n",
       "Date                                                                   \n",
       "2012-01-03 2012-01-03  325.25  332.83  324.97  663.59   7,380,500  2012\n",
       "2012-01-04 2012-01-04  331.27  333.87  329.08  666.45   5,749,400  2012\n",
       "2012-01-05 2012-01-05  329.83  330.75  326.89  657.21   6,590,300  2012\n",
       "2012-01-06 2012-01-06  328.34  328.77  323.68  648.24   5,405,900  2012\n",
       "2012-01-09 2012-01-09  322.04  322.29  309.46  620.76  11,688,800  2012"
      ]
     },
     "execution_count": 15,
     "metadata": {},
     "output_type": "execute_result"
    }
   ],
   "source": [
    "df['year']=df['Date'].dt.year\n",
    "df.head()"
   ]
  },
  {
   "cell_type": "code",
   "execution_count": 16,
   "metadata": {},
   "outputs": [
    {
     "data": {
      "text/plain": [
       "year\n",
       "2012    320.195040\n",
       "2013    440.160119\n",
       "2014    560.709643\n",
       "2015    602.057341\n",
       "2016    743.732460\n",
       "Name: Open, dtype: float64"
      ]
     },
     "execution_count": 16,
     "metadata": {},
     "output_type": "execute_result"
    }
   ],
   "source": [
    "df.groupby('year')['Open'].mean()"
   ]
  },
  {
   "cell_type": "code",
   "execution_count": 17,
   "metadata": {},
   "outputs": [
    {
     "data": {
      "text/plain": [
       "<matplotlib.axes._subplots.AxesSubplot at 0x1897e098640>"
      ]
     },
     "execution_count": 17,
     "metadata": {},
     "output_type": "execute_result"
    },
    {
     "data": {
      "image/png": "[encoded data removed]",
      "text/plain": [
       "<Figure size 432x288 with 1 Axes>"
      ]
     },
     "metadata": {
      "needs_background": "light"
     },
     "output_type": "display_data"
    }
   ],
   "source": [
    "df.groupby('year')['Open'].mean().plot()"
   ]
  },
  {
   "cell_type": "markdown",
   "metadata": {},
   "source": [
    "### Creating Lag plot"
   ]
  },
  {
   "cell_type": "code",
   "execution_count": 18,
   "metadata": {},
   "outputs": [
    {
     "data": {
      "text/plain": [
       "<matplotlib.axes._subplots.AxesSubplot at 0x1897e101550>"
      ]
     },
     "execution_count": 18,
     "metadata": {},
     "output_type": "execute_result"
    },
    {
     "data": {
      "image/png": "[encoded data removed]",
      "text/plain": [
       "<Figure size 432x288 with 1 Axes>"
      ]
     },
     "metadata": {
      "needs_background": "light"
     },
     "output_type": "display_data"
    }
   ],
   "source": [
    "from pandas.plotting import lag_plot\n",
    "lag_plot(df.Open,lag=2)"
   ]
  },
  {
   "cell_type": "code",
   "execution_count": 19,
   "metadata": {},
   "outputs": [
    {
     "data": {
      "text/plain": [
       "<matplotlib.axes._subplots.AxesSubplot at 0x1897e153400>"
      ]
     },
     "execution_count": 19,
     "metadata": {},
     "output_type": "execute_result"
    },
    {
     "data": {
      "image/png": "[encoded data removed]",
      "text/plain": [
       "<Figure size 432x288 with 1 Axes>"
      ]
     },
     "metadata": {
      "needs_background": "light"
     },
     "output_type": "display_data"
    }
   ],
   "source": [
    "from pandas.plotting import autocorrelation_plot as ap\n",
    "ap(df.Open)"
   ]
  },
  {
   "cell_type": "code",
   "execution_count": 20,
   "metadata": {},
   "outputs": [
    {
     "data": {
      "text/plain": [
       "array([<matplotlib.axes._subplots.AxesSubplot object at 0x000001897E1C4250>,\n",
       "       <matplotlib.axes._subplots.AxesSubplot object at 0x000001897E1E9C40>,\n",
       "       <matplotlib.axes._subplots.AxesSubplot object at 0x000001897E20AE80>],\n",
       "      dtype=object)"
      ]
     },
     "execution_count": 20,
     "metadata": {},
     "output_type": "execute_result"
    },
    {
     "data": {
      "image/png": "[encoded data removed]",
      "text/plain": [
       "<Figure size 432x288 with 3 Axes>"
      ]
     },
     "metadata": {
      "needs_background": "light"
     },
     "output_type": "display_data"
    }
   ],
   "source": [
    "df_train.set_index('Date')[['Open','High','Low']].plot(subplots=True)"
   ]
  },
  {
   "cell_type": "code",
   "execution_count": 21,
   "metadata": {},
   "outputs": [
    {
     "data": {
      "text/html": [
       "<div>\n",
       "<style scoped>\n",
       "    .dataframe tbody tr th:only-of-type {\n",
       "        vertical-align: middle;\n",
       "    }\n",
       "\n",
       "    .dataframe tbody tr th {\n",
       "        vertical-align: top;\n",
       "    }\n",
       "\n",
       "    .dataframe thead th {\n",
       "        text-align: right;\n",
       "    }\n",
       "</style>\n",
       "<table border=\"1\" class=\"dataframe\">\n",
       "  <thead>\n",
       "    <tr style=\"text-align: right;\">\n",
       "      <th></th>\n",
       "      <th>Open</th>\n",
       "      <th>High</th>\n",
       "      <th>Low</th>\n",
       "    </tr>\n",
       "  </thead>\n",
       "  <tbody>\n",
       "    <tr>\n",
       "      <th>0</th>\n",
       "      <td>325.25</td>\n",
       "      <td>332.83</td>\n",
       "      <td>324.97</td>\n",
       "    </tr>\n",
       "    <tr>\n",
       "      <th>1</th>\n",
       "      <td>331.27</td>\n",
       "      <td>333.87</td>\n",
       "      <td>329.08</td>\n",
       "    </tr>\n",
       "    <tr>\n",
       "      <th>2</th>\n",
       "      <td>329.83</td>\n",
       "      <td>330.75</td>\n",
       "      <td>326.89</td>\n",
       "    </tr>\n",
       "    <tr>\n",
       "      <th>3</th>\n",
       "      <td>328.34</td>\n",
       "      <td>328.77</td>\n",
       "      <td>323.68</td>\n",
       "    </tr>\n",
       "    <tr>\n",
       "      <th>4</th>\n",
       "      <td>322.04</td>\n",
       "      <td>322.29</td>\n",
       "      <td>309.46</td>\n",
       "    </tr>\n",
       "    <tr>\n",
       "      <th>...</th>\n",
       "      <td>...</td>\n",
       "      <td>...</td>\n",
       "      <td>...</td>\n",
       "    </tr>\n",
       "    <tr>\n",
       "      <th>1253</th>\n",
       "      <td>790.90</td>\n",
       "      <td>792.74</td>\n",
       "      <td>787.28</td>\n",
       "    </tr>\n",
       "    <tr>\n",
       "      <th>1254</th>\n",
       "      <td>790.68</td>\n",
       "      <td>797.86</td>\n",
       "      <td>787.66</td>\n",
       "    </tr>\n",
       "    <tr>\n",
       "      <th>1255</th>\n",
       "      <td>793.70</td>\n",
       "      <td>794.23</td>\n",
       "      <td>783.20</td>\n",
       "    </tr>\n",
       "    <tr>\n",
       "      <th>1256</th>\n",
       "      <td>783.33</td>\n",
       "      <td>785.93</td>\n",
       "      <td>778.92</td>\n",
       "    </tr>\n",
       "    <tr>\n",
       "      <th>1257</th>\n",
       "      <td>782.75</td>\n",
       "      <td>782.78</td>\n",
       "      <td>770.41</td>\n",
       "    </tr>\n",
       "  </tbody>\n",
       "</table>\n",
       "<p>1258 rows × 3 columns</p>\n",
       "</div>"
      ],
      "text/plain": [
       "        Open    High     Low\n",
       "0     325.25  332.83  324.97\n",
       "1     331.27  333.87  329.08\n",
       "2     329.83  330.75  326.89\n",
       "3     328.34  328.77  323.68\n",
       "4     322.04  322.29  309.46\n",
       "...      ...     ...     ...\n",
       "1253  790.90  792.74  787.28\n",
       "1254  790.68  797.86  787.66\n",
       "1255  793.70  794.23  783.20\n",
       "1256  783.33  785.93  778.92\n",
       "1257  782.75  782.78  770.41\n",
       "\n",
       "[1258 rows x 3 columns]"
      ]
     },
     "execution_count": 21,
     "metadata": {},
     "output_type": "execute_result"
    }
   ],
   "source": [
    "# Take input features\n",
    "X=df_train[['Open','High','Low']]\n",
    "X"
   ]
  },
  {
   "cell_type": "code",
   "execution_count": 22,
   "metadata": {},
   "outputs": [
    {
     "data": {
      "text/html": [
       "<div>\n",
       "<style scoped>\n",
       "    .dataframe tbody tr th:only-of-type {\n",
       "        vertical-align: middle;\n",
       "    }\n",
       "\n",
       "    .dataframe tbody tr th {\n",
       "        vertical-align: top;\n",
       "    }\n",
       "\n",
       "    .dataframe thead th {\n",
       "        text-align: right;\n",
       "    }\n",
       "</style>\n",
       "<table border=\"1\" class=\"dataframe\">\n",
       "  <thead>\n",
       "    <tr style=\"text-align: right;\">\n",
       "      <th></th>\n",
       "      <th>Open</th>\n",
       "      <th>High</th>\n",
       "      <th>Low</th>\n",
       "    </tr>\n",
       "  </thead>\n",
       "  <tbody>\n",
       "    <tr>\n",
       "      <th>count</th>\n",
       "      <td>1258.000000</td>\n",
       "      <td>1258.000000</td>\n",
       "      <td>1258.000000</td>\n",
       "    </tr>\n",
       "    <tr>\n",
       "      <th>mean</th>\n",
       "      <td>533.709833</td>\n",
       "      <td>537.880223</td>\n",
       "      <td>529.007409</td>\n",
       "    </tr>\n",
       "    <tr>\n",
       "      <th>std</th>\n",
       "      <td>151.904442</td>\n",
       "      <td>153.008811</td>\n",
       "      <td>150.552807</td>\n",
       "    </tr>\n",
       "    <tr>\n",
       "      <th>min</th>\n",
       "      <td>279.120000</td>\n",
       "      <td>281.210000</td>\n",
       "      <td>277.220000</td>\n",
       "    </tr>\n",
       "    <tr>\n",
       "      <th>25%</th>\n",
       "      <td>404.115000</td>\n",
       "      <td>406.765000</td>\n",
       "      <td>401.765000</td>\n",
       "    </tr>\n",
       "    <tr>\n",
       "      <th>50%</th>\n",
       "      <td>537.470000</td>\n",
       "      <td>540.750000</td>\n",
       "      <td>532.990000</td>\n",
       "    </tr>\n",
       "    <tr>\n",
       "      <th>75%</th>\n",
       "      <td>654.922500</td>\n",
       "      <td>662.587500</td>\n",
       "      <td>644.800000</td>\n",
       "    </tr>\n",
       "    <tr>\n",
       "      <th>max</th>\n",
       "      <td>816.680000</td>\n",
       "      <td>816.680000</td>\n",
       "      <td>805.140000</td>\n",
       "    </tr>\n",
       "  </tbody>\n",
       "</table>\n",
       "</div>"
      ],
      "text/plain": [
       "              Open         High          Low\n",
       "count  1258.000000  1258.000000  1258.000000\n",
       "mean    533.709833   537.880223   529.007409\n",
       "std     151.904442   153.008811   150.552807\n",
       "min     279.120000   281.210000   277.220000\n",
       "25%     404.115000   406.765000   401.765000\n",
       "50%     537.470000   540.750000   532.990000\n",
       "75%     654.922500   662.587500   644.800000\n",
       "max     816.680000   816.680000   805.140000"
      ]
     },
     "execution_count": 22,
     "metadata": {},
     "output_type": "execute_result"
    }
   ],
   "source": [
    "X.describe()"
   ]
  },
  {
   "cell_type": "code",
   "execution_count": 23,
   "metadata": {},
   "outputs": [],
   "source": [
    "## Feature Scaling tha Data\n",
    "from sklearn.preprocessing import MinMaxScaler\n",
    "sc=MinMaxScaler()\n",
    "X_scaled=sc.fit_transform(X)"
   ]
  },
  {
   "cell_type": "code",
   "execution_count": 24,
   "metadata": {},
   "outputs": [
    {
     "data": {
      "text/plain": [
       "array([[0.08581368, 0.09640129, 0.09044931],\n",
       "       [0.09701243, 0.09834351, 0.09823458],\n",
       "       [0.09433366, 0.09251685, 0.09408623],\n",
       "       ...,\n",
       "       [0.95725128, 0.95807422, 0.95844067],\n",
       "       [0.93796041, 0.94257381, 0.95033338],\n",
       "       [0.93688146, 0.93669113, 0.93421352]])"
      ]
     },
     "execution_count": 24,
     "metadata": {},
     "output_type": "execute_result"
    }
   ],
   "source": [
    "X_scaled"
   ]
  },
  {
   "cell_type": "code",
   "execution_count": 25,
   "metadata": {},
   "outputs": [
    {
     "data": {
      "text/plain": [
       "array([0.08581368, 0.09701243, 0.09433366, ..., 0.95725128, 0.93796041,\n",
       "       0.93688146])"
      ]
     },
     "execution_count": 25,
     "metadata": {},
     "output_type": "execute_result"
    }
   ],
   "source": [
    "#Take Output \n",
    "Y=X_scaled[:,0]\n",
    "Y"
   ]
  },
  {
   "cell_type": "code",
   "execution_count": 26,
   "metadata": {},
   "outputs": [
    {
     "name": "stderr",
     "output_type": "stream",
     "text": [
      "Using TensorFlow backend.\n"
     ]
    }
   ],
   "source": [
    "## Preparation of Time Series Model\n",
    "from keras.preprocessing.sequence import TimeseriesGenerator\n",
    "import tensorflow as tf"
   ]
  },
  {
   "cell_type": "code",
   "execution_count": 27,
   "metadata": {},
   "outputs": [
    {
     "data": {
      "text/plain": [
       "(array([[[0.08581368, 0.09640129, 0.09044931],\n",
       "         [0.09701243, 0.09834351, 0.09823458]],\n",
       " \n",
       "        [[0.09701243, 0.09834351, 0.09823458],\n",
       "         [0.09433366, 0.09251685, 0.09408623]],\n",
       " \n",
       "        [[0.09433366, 0.09251685, 0.09408623],\n",
       "         [0.09156187, 0.08881917, 0.08800576]],\n",
       " \n",
       "        [[0.09156187, 0.08881917, 0.08800576],\n",
       "         [0.07984225, 0.07671765, 0.06106986]],\n",
       " \n",
       "        [[0.07984225, 0.07671765, 0.06106986],\n",
       "         [0.0643277 , 0.06444805, 0.05697833]],\n",
       " \n",
       "        [[0.0643277 , 0.06444805, 0.05697833],\n",
       "         [0.0585423 , 0.06033951, 0.06095621]],\n",
       " \n",
       "        [[0.0585423 , 0.06033951, 0.06095621],\n",
       "         [0.06568569, 0.063589  , 0.06603273]],\n",
       " \n",
       "        [[0.06568569, 0.063589  , 0.06603273],\n",
       "         [0.06109085, 0.05806114, 0.06089938]],\n",
       " \n",
       "        [[0.06109085, 0.05806114, 0.06089938],\n",
       "         [0.06639259, 0.06274861, 0.0652561 ]],\n",
       " \n",
       "        [[0.06639259, 0.06274861, 0.0652561 ],\n",
       "         [0.0614257 , 0.06463481, 0.06190332]]]),\n",
       " array([0.09433366, 0.09156187, 0.07984225, 0.0643277 , 0.0585423 ,\n",
       "        0.06568569, 0.06109085, 0.06639259, 0.0614257 , 0.07474514]))"
      ]
     },
     "execution_count": 27,
     "metadata": {},
     "output_type": "execute_result"
    }
   ],
   "source": [
    "#for sample\n",
    "TimeseriesGenerator(X_scaled,Y,length=2,batch_size=10)[0]"
   ]
  },
  {
   "cell_type": "markdown",
   "metadata": {},
   "source": [
    "### Now Split the Data into training and testing"
   ]
  },
  {
   "cell_type": "code",
   "execution_count": 28,
   "metadata": {},
   "outputs": [],
   "source": [
    "from sklearn.model_selection import train_test_split\n",
    "x_train,x_valid,y_train,y_valid=train_test_split(X_scaled,Y,test_size=0.25,shuffle=False,random_state=123)"
   ]
  },
  {
   "cell_type": "code",
   "execution_count": 29,
   "metadata": {},
   "outputs": [
    {
     "data": {
      "text/plain": [
       "(943, 3)"
      ]
     },
     "execution_count": 29,
     "metadata": {},
     "output_type": "execute_result"
    }
   ],
   "source": [
    "x_train.shape"
   ]
  },
  {
   "cell_type": "code",
   "execution_count": 30,
   "metadata": {},
   "outputs": [
    {
     "data": {
      "text/plain": [
       "(315, 3)"
      ]
     },
     "execution_count": 30,
     "metadata": {},
     "output_type": "execute_result"
    }
   ],
   "source": [
    "x_valid.shape"
   ]
  },
  {
   "cell_type": "code",
   "execution_count": 31,
   "metadata": {},
   "outputs": [],
   "source": [
    "train_generator=TimeseriesGenerator(x_train,y_train,length=10,batch_size=32)\n",
    "valid_generator=TimeseriesGenerator(x_valid,y_valid,length=10,batch_size=32)"
   ]
  },
  {
   "cell_type": "code",
   "execution_count": 32,
   "metadata": {},
   "outputs": [],
   "source": [
    "num_features=3\n",
    "max_length=10"
   ]
  },
  {
   "cell_type": "markdown",
   "metadata": {},
   "source": [
    "### Define LSTM Model"
   ]
  },
  {
   "cell_type": "code",
   "execution_count": 144,
   "metadata": {},
   "outputs": [],
   "source": [
    "def LSTM_Model(max_length,num_feature):\n",
    "    from keras.layers import LSTM,Dropout,Dense,LeakyReLU\n",
    "    from keras import Sequential\n",
    "    model=Sequential()\n",
    "    model.add(LSTM(128,input_shape=(max_length,num_features),return_sequences=True))\n",
    "    model.add(LeakyReLU(alpha=0.5))\n",
    "    model.add(Dropout(0.3))\n",
    "    model.add(LSTM(128,return_sequences=True))\n",
    "    model.add(LeakyReLU(alpha=0.5))\n",
    "    model.add(Dropout(0.3))\n",
    "    model.add(LSTM(64,return_sequences=True))\n",
    "    model.add(Dropout(0.3))\n",
    "    model.add(LSTM(64))\n",
    "    model.add(Dropout(0.3))\n",
    "    model.add(Dense(1))\n",
    "    model.compile(optimizer='Adam',loss='mean_squared_error',metrics=['mean_squared_error'])\n",
    "    return model"
   ]
  },
  {
   "cell_type": "code",
   "execution_count": 145,
   "metadata": {},
   "outputs": [],
   "source": [
    "model=LSTM_Model(10,3)"
   ]
  },
  {
   "cell_type": "code",
   "execution_count": 146,
   "metadata": {},
   "outputs": [],
   "source": [
    "from keras.callbacks import EarlyStopping\n",
    "early_stopping=EarlyStopping(patience=4)"
   ]
  },
  {
   "cell_type": "code",
   "execution_count": 147,
   "metadata": {},
   "outputs": [
    {
     "name": "stdout",
     "output_type": "stream",
     "text": [
      "Epoch 1/10\n",
      "30/30 [==============================] - 5s 182ms/step - loss: 0.0074 - mean_squared_error: 0.0074 - val_loss: 0.0023 - val_mean_squared_error: 0.0023\n",
      "Epoch 2/10\n",
      "30/30 [==============================] - 2s 65ms/step - loss: 0.0366 - mean_squared_error: 0.0366 - val_loss: 0.0767 - val_mean_squared_error: 0.0767\n",
      "Epoch 3/10\n",
      "30/30 [==============================] - 2s 67ms/step - loss: 0.0088 - mean_squared_error: 0.0088 - val_loss: 0.0129 - val_mean_squared_error: 0.0129\n",
      "Epoch 4/10\n",
      "30/30 [==============================] - 2s 62ms/step - loss: 0.0040 - mean_squared_error: 0.0040 - val_loss: 0.0082 - val_mean_squared_error: 0.0082\n",
      "Epoch 5/10\n",
      "30/30 [==============================] - 2s 63ms/step - loss: 0.0048 - mean_squared_error: 0.0048 - val_loss: 0.0053 - val_mean_squared_error: 0.0053\n"
     ]
    }
   ],
   "source": [
    "model_hist=model.fit(train_generator,validation_data=valid_generator,shuffle=False,callbacks=[early_stopping],epochs=10)"
   ]
  },
  {
   "cell_type": "code",
   "execution_count": 148,
   "metadata": {},
   "outputs": [
    {
     "data": {
      "image/png": "[encoded data removed]",
      "text/plain": [
       "<Figure size 432x288 with 1 Axes>"
      ]
     },
     "metadata": {
      "needs_background": "light"
     },
     "output_type": "display_data"
    }
   ],
   "source": [
    "pd.DataFrame(model_hist.history).plot()\n",
    "plt.gca().set_ylim(0,1)\n",
    "plt.show()"
   ]
  },
  {
   "cell_type": "code",
   "execution_count": 149,
   "metadata": {},
   "outputs": [
    {
     "data": {
      "text/plain": [
       "[0.005258943885564804, 0.005258943885564804]"
      ]
     },
     "execution_count": 149,
     "metadata": {},
     "output_type": "execute_result"
    }
   ],
   "source": [
    "model.evaluate(valid_generator,verbose=0)"
   ]
  },
  {
   "cell_type": "code",
   "execution_count": 203,
   "metadata": {},
   "outputs": [
    {
     "data": {
      "text/plain": [
       "(305, 1)"
      ]
     },
     "execution_count": 203,
     "metadata": {},
     "output_type": "execute_result"
    }
   ],
   "source": [
    "valid_pred=model.predict_generator(valid_generator)\n",
    "valid_pred.shape"
   ]
  },
  {
   "cell_type": "code",
   "execution_count": 195,
   "metadata": {},
   "outputs": [],
   "source": [
    "final_df=pd.concat([pd.DataFrame(valid_pred),pd.DataFrame(x_valid[:,1:][10:])],axis=1)"
   ]
  },
  {
   "cell_type": "code",
   "execution_count": 196,
   "metadata": {},
   "outputs": [
    {
     "data": {
      "text/plain": [
       "(305, 3)"
      ]
     },
     "execution_count": 196,
     "metadata": {},
     "output_type": "execute_result"
    }
   ],
   "source": [
    "final_df.shape"
   ]
  },
  {
   "cell_type": "code",
   "execution_count": 197,
   "metadata": {},
   "outputs": [
    {
     "data": {
      "text/plain": [
       "array([[816.81969005, 827.12663511, 812.65932679],\n",
       "       [817.44039005, 827.30739593, 812.89019473],\n",
       "       [817.69456821, 827.10220797, 811.39828345],\n",
       "       [817.85132044, 826.23748725, 811.15868522],\n",
       "       [818.01137835, 826.42606477, 811.37985282],\n",
       "       [818.3416925 , 833.48062244, 816.95657448],\n",
       "       [818.66013086, 832.42048462, 816.93329368],\n",
       "       [819.00304526, 831.88015631, 817.25243465],\n",
       "       [819.35115379, 831.81762284, 817.10983975],\n",
       "       [819.70542705, 832.33352401, 817.78207285],\n",
       "       [820.11680758, 832.30811978, 817.78595299],\n",
       "       [820.57502669, 832.66182475, 817.37853898],\n",
       "       [821.15186673, 832.95788167, 818.23895855],\n",
       "       [821.94006592, 833.78351896, 818.93544249],\n",
       "       [822.9472273 , 834.40689955, 819.66975773],\n",
       "       [824.03754395, 834.00922573, 819.43112953],\n",
       "       [823.96823382, 833.94082974, 818.69584426],\n",
       "       [824.14350134, 833.53827049, 818.60563116],\n",
       "       [824.34248882, 834.55541655, 819.74348026],\n",
       "       [824.59701514, 834.24274917, 819.59021499],\n",
       "       [824.80203724, 833.59298728, 818.43393526],\n",
       "       [825.01139188, 833.43079108, 817.91011725],\n",
       "       [825.26901287, 833.66040619, 819.04505626],\n",
       "       [825.42414742, 834.59547706, 819.43015949],\n",
       "       [825.47303271, 834.65312511, 820.44190427],\n",
       "       [825.40125388, 836.2086453 , 820.98221284],\n",
       "       [825.36378371, 836.67666928, 821.83778224],\n",
       "       [825.40647965, 835.95069472, 820.46130493],\n",
       "       [825.54497331, 835.63021066, 821.27904304],\n",
       "       [825.55863911, 835.76797972, 821.4177578 ],\n",
       "       [825.65598768, 835.91649672, 820.81439707],\n",
       "       [825.92233354, 837.28637067, 821.34112517],\n",
       "       [826.3495602 , 837.97130764, 822.53038604],\n",
       "       [826.67259484, 837.29027901, 821.2373316 ],\n",
       "       [826.96729213, 837.24142473, 821.66123617],\n",
       "       [827.17253226, 837.26487478, 822.15498314],\n",
       "       [827.24620658, 836.88088016, 822.06865017],\n",
       "       [827.21059322, 836.82518628, 820.40019283],\n",
       "       [827.34093171, 836.00638859, 821.0627256 ],\n",
       "       [827.47811013, 835.01562384, 820.375942  ],\n",
       "       [827.60338461, 835.31070368, 819.15564006],\n",
       "       [827.74340802, 836.22427867, 820.98318287],\n",
       "       [827.76608354, 836.46952714, 820.63591093],\n",
       "       [827.54366094, 836.67373802, 821.56423284],\n",
       "       [827.41529882, 835.83832988, 820.51174667],\n",
       "       [827.30599004, 835.43479355, 820.69120283],\n",
       "       [827.07232111, 835.90868004, 821.22763127],\n",
       "       [826.90047532, 835.84614656, 821.07921617],\n",
       "       [826.82008064, 835.5667001 , 821.3333649 ],\n",
       "       [826.78309226, 836.70402768, 821.61467457],\n",
       "       [826.91133129, 838.36409603, 823.25500095],\n",
       "       [827.10973149, 838.13154967, 823.30059251],\n",
       "       [827.11843878, 837.34011037, 822.47024398],\n",
       "       [827.17483216, 834.85440473, 819.8433937 ],\n",
       "       [827.12730783, 835.63021066, 820.5592783 ],\n",
       "       [827.28542101, 835.15925542, 819.61640589],\n",
       "       [827.46644532, 834.31114516, 818.65995302],\n",
       "       [827.55300122, 833.79622108, 818.07211282],\n",
       "       [827.60909217, 832.39117205, 817.15446128],\n",
       "       [827.6277833 , 833.35848675, 818.49116722],\n",
       "       [827.47390419, 833.943761  , 816.67623485],\n",
       "       [826.96915948, 832.69113732, 815.75373314],\n",
       "       [826.31336307, 831.20792145, 815.39191071],\n",
       "       [825.67971819, 831.52449717, 816.17181751],\n",
       "       [825.39341169, 831.21866939, 814.21720033],\n",
       "       [824.91681444, 832.42439296, 816.27367101],\n",
       "       [824.53205514, 833.29790745, 818.76277656],\n",
       "       [824.19535821, 833.44935571, 817.78207285],\n",
       "       [823.88288766, 832.33547818, 817.43965108],\n",
       "       [823.77727842, 832.33059275, 816.26688078],\n",
       "       [823.50099796, 833.84116701, 818.00906065],\n",
       "       [823.26819062, 834.94527368, 819.41075883],\n",
       "       [823.34900731, 836.20278279, 821.00840374],\n",
       "       [823.67715519, 839.33043364, 823.08233501],\n",
       "       [823.96466088, 837.82865315, 818.79963782],\n",
       "       [824.56909626, 833.18749678, 816.99149568],\n",
       "       [824.98570961, 830.93922293, 814.8855533 ],\n",
       "       [825.13793236, 828.98896017, 813.22776633],\n",
       "       [825.35311061, 830.53959494, 813.78165536],\n",
       "       [825.6740247 , 830.677364  , 815.0776199 ],\n",
       "       [825.99752706, 829.50876968, 813.7913557 ],\n",
       "       [825.97561115, 829.93868732, 814.73519814],\n",
       "       [825.6117655 , 830.35394868, 815.36086964],\n",
       "       [824.81137401, 831.5020242 , 815.97490074],\n",
       "       [823.34186142, 831.75606645, 816.42596624],\n",
       "       [822.18656718, 830.85030814, 816.23389964],\n",
       "       [821.66608184, 831.84302706, 817.05454785],\n",
       "       [821.55893582, 831.37011765, 816.18830808],\n",
       "       [821.9390285 , 830.54936579, 814.9466654 ],\n",
       "       [822.20613748, 831.13366295, 815.89826811],\n",
       "       [822.3308739 , 831.86159169, 816.89449235],\n",
       "       [822.70568806, 831.61341196, 816.58602175],\n",
       "       [822.92897224, 832.38726371, 816.78875871],\n",
       "       [823.08511609, 832.50353689, 817.97510949],\n",
       "       [823.11804974, 832.44979719, 817.39502955],\n",
       "       [823.0582487 , 832.16057986, 817.39502955],\n",
       "       [823.17396134, 831.339828  , 815.54032581],\n",
       "       [823.13424051, 830.91968121, 815.38900061],\n",
       "       [823.22934896, 831.10435038, 816.22904948],\n",
       "       [823.53253549, 832.15569444, 817.13700068],\n",
       "       [823.68096024, 833.17968009, 818.47273659],\n",
       "       [823.67294925, 834.0180195 , 819.25070333],\n",
       "       [823.74935955, 833.70437504, 819.21384206],\n",
       "       [823.76526898, 834.21050535, 819.18862119],\n",
       "       [823.64259684, 834.75767326, 820.3031895 ],\n",
       "       [823.60796112, 834.65312511, 819.8986856 ],\n",
       "       [823.67711299, 834.70197938, 820.06262123],\n",
       "       [824.03378111, 834.94625077, 820.44481437],\n",
       "       [824.60047906, 835.01660093, 820.31774   ],\n",
       "       [825.11726486, 834.23786375, 819.81817283],\n",
       "       [825.51534885, 834.35902235, 819.96367783],\n",
       "       [825.74447071, 835.16609502, 819.60088536],\n",
       "       [825.86386883, 836.20473696, 821.53901197],\n",
       "       [826.02030104, 835.51784582, 820.78238597],\n",
       "       [826.16997421, 835.46801445, 820.40019283],\n",
       "       [826.18452269, 835.7083775 , 820.92692093],\n",
       "       [826.21494895, 834.73129195, 820.2420774 ],\n",
       "       [826.27485901, 835.06740938, 820.26050803],\n",
       "       [826.30554199, 835.14166788, 820.33035043],\n",
       "       [826.32475358, 834.99021962, 820.259538  ],\n",
       "       [826.47813684, 834.94625077, 820.30803967],\n",
       "       [826.59616345, 834.83193176, 819.81914286],\n",
       "       [826.69776016, 835.86275702, 821.10443704],\n",
       "       [826.54008305, 836.14904308, 821.92411521],\n",
       "       [826.46460116, 836.50958765, 821.92217514],\n",
       "       [826.4774546 , 837.19843297, 822.36936051],\n",
       "       [826.40697342, 837.37919379, 821.59624394],\n",
       "       [826.52399426, 836.2291641 , 821.66220621],\n",
       "       [826.67098772, 836.45584795, 821.61758467],\n",
       "       [826.79856211, 834.0785988 , 818.13128485],\n",
       "       [826.96991557, 832.88753151, 818.32335145],\n",
       "       [827.14871382, 833.06731526, 817.10498958],\n",
       "       [827.36454266, 831.42678862, 816.06996401],\n",
       "       [827.33905381, 831.93389602, 815.79738464],\n",
       "       [827.13792115, 830.31681943, 815.74403281],\n",
       "       [826.80221241, 830.61189927, 815.93803948],\n",
       "       [826.23470914, 830.33831531, 816.03504281],\n",
       "       [825.51295751, 830.52493865, 815.74500284],\n",
       "       [824.77776867, 830.77604964, 816.39589521],\n",
       "       [823.93091839, 831.70818925, 816.62773318],\n",
       "       [823.52307915, 832.37749286, 817.78110282],\n",
       "       [823.19217068, 832.84551684, 818.33596189],\n",
       "       [822.86651259, 832.94127122, 818.05271215],\n",
       "       [822.82664758, 832.43025548, 817.68409948],\n",
       "       [822.80727774, 832.17719032, 817.70932035],\n",
       "       [823.03500348, 832.35501989, 817.35913832],\n",
       "       [823.24197733, 832.6520539 , 817.20975318],\n",
       "       [823.50491202, 831.68278503, 816.87218158],\n",
       "       [823.83924573, 831.13561712, 816.50065881],\n",
       "       [824.08979469, 831.97395652, 816.86151121],\n",
       "       [824.2615174 , 831.67106   , 817.21654342],\n",
       "       [824.22934335, 832.59831419, 817.47651235],\n",
       "       [824.08488542, 833.23732814, 818.72300519],\n",
       "       [823.89959889, 833.31744916, 818.77829709],\n",
       "       [823.80087179, 833.86559415, 819.13914949],\n",
       "       [823.75975835, 834.43132668, 819.8433937 ],\n",
       "       [823.77881521, 834.18510113, 819.7851917 ],\n",
       "       [823.79972535, 833.77570228, 819.15564006],\n",
       "       [824.02302712, 833.43079108, 818.80545802],\n",
       "       [824.36622637, 832.9832859 , 818.22828819],\n",
       "       [824.68830096, 832.69699983, 818.41647466],\n",
       "       [825.00981289, 833.34089921, 818.80739809],\n",
       "       [825.27494901, 833.43567651, 818.97812396],\n",
       "       [825.35488301, 833.07904028, 818.40483426],\n",
       "       [825.40484792, 833.03507143, 818.41259452],\n",
       "       [825.37760776, 832.74487702, 818.08375322],\n",
       "       [825.21021408, 832.79470839, 818.49019719],\n",
       "       [825.02123505, 832.17621323, 817.12730035],\n",
       "       [824.88318097, 831.41115525, 815.69068097],\n",
       "       [824.77994197, 830.79168301, 816.17181751],\n",
       "       [824.7309758 , 830.82001849, 816.03601284],\n",
       "       [824.67480749, 830.63339515, 816.13980641],\n",
       "       [824.48527282, 830.73989747, 815.55002614],\n",
       "       [824.22789448, 829.51365511, 814.23563097],\n",
       "       [823.98081296, 827.84283881, 813.24910706],\n",
       "       [823.67644131, 828.62743851, 814.19197947],\n",
       "       [823.32809716, 829.32116925, 815.0077775 ],\n",
       "       [822.85568475, 829.79896409, 815.22506497],\n",
       "       [822.46145504, 830.61287635, 816.04765324],\n",
       "       [822.19432145, 830.25037761, 815.73239241],\n",
       "       [821.96192556, 830.71351616, 815.75276311],\n",
       "       [821.72846764, 830.37349039, 815.66837021],\n",
       "       [821.50276047, 831.10728164, 816.46476758],\n",
       "       [821.34508335, 832.16253404, 817.51337362],\n",
       "       [821.52717322, 832.79080004, 818.35439252],\n",
       "       [821.9651609 , 832.89437111, 818.44557566],\n",
       "       [822.31456357, 832.7194728 , 818.56003959],\n",
       "       [822.61256301, 833.064384  , 818.65898299],\n",
       "       [822.92134458, 834.07957589, 818.86657012],\n",
       "       [823.15906119, 834.16360524, 819.62416616],\n",
       "       [823.48703676, 834.66582722, 820.40989317],\n",
       "       [823.89062083, 834.62283545, 820.28669893],\n",
       "       [824.34328007, 834.77428371, 820.35751137],\n",
       "       [824.75732624, 834.71272732, 820.4486945 ],\n",
       "       [825.05344778, 834.62283545, 820.13537373],\n",
       "       [825.24904519, 834.89348815, 820.40019283],\n",
       "       [825.44993871, 835.302887  , 820.6233005 ],\n",
       "       [825.70218974, 838.22437279, 823.28798208],\n",
       "       [825.95040011, 838.40806488, 822.73700314],\n",
       "       [826.19238245, 837.95958261, 823.39274568],\n",
       "       [826.40046406, 837.70260911, 823.29283225],\n",
       "       [826.55358004, 837.78663847, 823.48392881],\n",
       "       [826.7638666 , 838.66308421, 823.82829065],\n",
       "       [827.02207488, 838.6230237 , 824.38605982],\n",
       "       [827.35423529, 839.23956468, 824.62662809],\n",
       "       [827.78507358, 839.03144546, 824.84100546],\n",
       "       [828.25080079, 839.31870861, 824.85943609],\n",
       "       [828.68932301, 838.69825929, 824.61013752],\n",
       "       [828.74030775, 839.09788728, 824.58200655],\n",
       "       [828.89611751, 838.46180458, 823.93499432],\n",
       "       [829.02872777, 838.44519413, 823.94372462],\n",
       "       [829.20679456, 838.64549667, 824.28032619],\n",
       "       [829.35871488, 838.08269539, 823.90492328],\n",
       "       [829.44189125, 837.83256149, 823.60615302],\n",
       "       [829.450064  , 838.01820774, 823.77396878],\n",
       "       [829.40291947, 837.82865315, 823.31708308],\n",
       "       [829.32248258, 837.57363382, 822.93974011],\n",
       "       [829.1973136 , 837.98303266, 823.19873901],\n",
       "       [829.11103552, 837.87653034, 823.27246155],\n",
       "       [828.97315377, 837.82572189, 823.29477231],\n",
       "       [828.90041137, 837.30004986, 823.15314745],\n",
       "       [828.82508069, 837.48862737, 823.04838385],\n",
       "       [828.69113058, 837.77198218, 823.44706755],\n",
       "       [828.61862379, 838.56146731, 823.69830618],\n",
       "       [828.57853722, 838.63279455, 824.20272352],\n",
       "       [828.50957876, 838.40024819, 823.94857478],\n",
       "       [828.50691312, 837.70554037, 822.59828838],\n",
       "       [828.56631678, 837.41730013, 822.04924951],\n",
       "       [828.58642512, 837.01962631, 822.22385551],\n",
       "       [828.60902327, 837.1622808 , 822.54493654],\n",
       "       [828.62430322, 837.76025716, 822.62738938],\n",
       "       [828.67559743, 837.36453751, 823.08330505],\n",
       "       [828.69774896, 837.77979887, 823.06196431],\n",
       "       [828.64718622, 837.71433414, 823.45870795],\n",
       "       [828.52097279, 838.0885579 , 823.43639718],\n",
       "       [828.31732923, 839.32847947, 824.42001099],\n",
       "       [828.14660173, 839.2385876 , 824.97390002],\n",
       "       [828.14908099, 838.63377164, 823.89910308],\n",
       "       [828.30301988, 838.95132444, 824.01938722],\n",
       "       [828.45808059, 838.54290268, 824.08340942],\n",
       "       [828.64410913, 838.93275982, 824.01162695],\n",
       "       [828.80723709, 838.45789624, 823.99804648],\n",
       "       [828.95509213, 837.98205558, 823.55280118],\n",
       "       [829.08433693, 838.24000616, 823.88164248],\n",
       "       [829.21792131, 838.56830691, 824.14937169],\n",
       "       [829.31586069, 838.41295031, 824.13870132],\n",
       "       [829.25453692, 838.33282929, 823.67405535],\n",
       "       [829.12480682, 839.28255645, 824.17071242],\n",
       "       [829.09670156, 839.56591126, 824.62759812],\n",
       "       [829.08125984, 839.16042075, 824.77116306],\n",
       "       [829.07792955, 838.48525464, 823.89231285],\n",
       "       [829.04922294, 838.75199899, 824.18332285],\n",
       "       [829.08014506, 838.93764525, 824.32882785],\n",
       "       [829.18195629, 840.47753207, 825.11164476],\n",
       "       [829.25783556, 840.76968065, 826.3203063 ],\n",
       "       [829.30339759, 840.70812426, 826.12629963],\n",
       "       [829.38120401, 840.27136702, 825.92938286],\n",
       "       [829.5122599 , 841.80343717, 826.97895893],\n",
       "       [829.60951704, 841.95      , 827.01      ],\n",
       "       [829.66376877, 841.00222702, 826.1544306 ],\n",
       "       [829.78741854, 840.66122416, 825.68687453],\n",
       "       [830.04891842, 841.83372682, 825.88961149],\n",
       "       [830.32133406, 840.01341644, 824.95934952],\n",
       "       [830.61446994, 839.29330439, 824.13870132],\n",
       "       [830.76519811, 838.52726931, 822.96593101],\n",
       "       [830.78058356, 837.38407922, 822.53717628],\n",
       "       [830.75486612, 837.42413973, 821.71555804],\n",
       "       [830.74821257, 838.8731576 , 823.84866135],\n",
       "       [830.50148624, 839.89323492, 824.58976682],\n",
       "       [830.11806327, 839.46331727, 823.76329842],\n",
       "       [829.80882102, 839.45745476, 821.87270344],\n",
       "       [829.51493257, 836.48809177, 821.69809744],\n",
       "       [829.06785077, 836.2018057 , 819.48254129],\n",
       "       [828.78449827, 836.84375091, 821.36731607],\n",
       "       [828.61353165, 837.03330551, 821.71070787],\n",
       "       [828.54318058, 837.65277775, 823.04159361],\n",
       "       [828.58557409, 837.87750742, 822.63126951],\n",
       "       [828.72763717, 837.35965208, 822.68947151],\n",
       "       [828.53031307, 838.06901619, 823.31029285],\n",
       "       [828.16114318, 837.22090593, 822.17050367],\n",
       "       [827.85764014, 836.90042187, 822.68171124],\n",
       "       [827.60498118, 838.32012718, 822.61186884],\n",
       "       [827.71063262, 838.21948737, 823.43057698],\n",
       "       [827.99009216, 837.68111323, 822.12976227],\n",
       "       [828.19296556, 836.39722281, 820.40310293],\n",
       "       [828.33295029, 835.82562777, 820.99191317],\n",
       "       [828.29896515, 836.79294246, 821.94254584],\n",
       "       [828.23522895, 837.27464564, 822.37324064],\n",
       "       [828.2183243 , 837.52184828, 822.22385551],\n",
       "       [828.0603764 , 838.18822063, 823.33260361],\n",
       "       [828.02194267, 839.28744187, 824.47627292],\n",
       "       [827.98923057, 839.46527144, 824.99330069],\n",
       "       [827.91950899, 840.74818477, 825.86536066],\n",
       "       [827.78367394, 840.71105552, 825.93035289],\n",
       "       [827.8125177 , 840.61334697, 825.82461926],\n",
       "       [828.14466405, 840.40425066, 825.56950049],\n",
       "       [828.61710459, 840.09158328, 825.17954709],\n",
       "       [828.99546355, 840.18831475, 825.85857043],\n",
       "       [829.3530249 , 839.9958289 , 825.26005986],\n",
       "       [829.77212101, 839.66752815, 825.40362479],\n",
       "       [830.07790988, 839.61085719, 825.27752046],\n",
       "       [830.24959391, 840.11112499, 825.31438172],\n",
       "       [830.36532765, 839.75644294, 824.88174686],\n",
       "       [830.3241474 , 838.94546193, 824.46657259],\n",
       "       [830.25040275, 838.63767998, 823.64107422]])"
      ]
     },
     "execution_count": 197,
     "metadata": {},
     "output_type": "execute_result"
    }
   ],
   "source": [
    "rev_df=sc.inverse_transform(final_df)\n",
    "rev_df"
   ]
  },
  {
   "cell_type": "code",
   "execution_count": 204,
   "metadata": {},
   "outputs": [
    {
     "data": {
      "text/plain": [
       "(1258, 3)"
      ]
     },
     "execution_count": 204,
     "metadata": {},
     "output_type": "execute_result"
    }
   ],
   "source": [
    "X_inv=sc.inverse_transform(X_scaled)\n",
    "X_inv.shape"
   ]
  },
  {
   "cell_type": "code",
   "execution_count": 205,
   "metadata": {},
   "outputs": [
    {
     "data": {
      "image/png": "[encoded data removed]",
      "text/plain": [
       "<Figure size 432x288 with 1 Axes>"
      ]
     },
     "metadata": {
      "needs_background": "light"
     },
     "output_type": "display_data"
    }
   ],
   "source": [
    "plt.plot(X_inv[943:,0], color = 'red', label = 'Real Google Stock Price')\n",
    "plt.plot(valid_pred, color = 'blue', label = 'Predicted Google Stock Price')\n",
    "plt.title('Google Stock Price Prediction')\n",
    "plt.xlabel('Time')\n",
    "plt.ylabel('Google Stock Price')\n",
    "plt.show()"
   ]
  },
  {
   "cell_type": "code",
   "execution_count": 206,
   "metadata": {},
   "outputs": [],
   "source": [
    "DF=df_train[valid_pred.shape[0]*-1:]"
   ]
  },
  {
   "cell_type": "code",
   "execution_count": 207,
   "metadata": {},
   "outputs": [
    {
     "data": {
      "text/plain": [
       "Date      305\n",
       "Open      305\n",
       "High      305\n",
       "Low       305\n",
       "Close     305\n",
       "Volume    305\n",
       "dtype: int64"
      ]
     },
     "execution_count": 207,
     "metadata": {},
     "output_type": "execute_result"
    }
   ],
   "source": [
    "DF.count()"
   ]
  },
  {
   "cell_type": "code",
   "execution_count": 212,
   "metadata": {},
   "outputs": [
    {
     "name": "stderr",
     "output_type": "stream",
     "text": [
      "<ipython-input-212-da4c06bd1f5a>:1: SettingWithCopyWarning: \n",
      "A value is trying to be set on a copy of a slice from a DataFrame.\n",
      "Try using .loc[row_indexer,col_indexer] = value instead\n",
      "\n",
      "See the caveats in the documentation: https://pandas.pydata.org/pandas-docs/stable/user_guide/indexing.html#returning-a-view-versus-a-copy\n",
      "  DF['Prediction_value']=rev_df[:,0]\n"
     ]
    }
   ],
   "source": [
    "DF['Prediction_value']=rev_df[:,0]"
   ]
  },
  {
   "cell_type": "code",
   "execution_count": 214,
   "metadata": {},
   "outputs": [
    {
     "data": {
      "text/plain": [
       "<matplotlib.axes._subplots.AxesSubplot at 0x1893458d400>"
      ]
     },
     "execution_count": 214,
     "metadata": {},
     "output_type": "execute_result"
    },
    {
     "data": {
      "image/png": "[encoded data removed]",
      "text/plain": [
       "<Figure size 432x288 with 1 Axes>"
      ]
     },
     "metadata": {
      "needs_background": "light"
     },
     "output_type": "display_data"
    }
   ],
   "source": [
    "DF[['Open','Prediction_value']].plot()"
   ]
  },
  {
   "cell_type": "code",
   "execution_count": 216,
   "metadata": {},
   "outputs": [
    {
     "data": {
      "text/plain": [
       "1.6448536269514722"
      ]
     },
     "execution_count": 216,
     "metadata": {},
     "output_type": "execute_result"
    }
   ],
   "source": [
    "from scipy.stats import norm\n",
    "norm.ppf(0.95)"
   ]
  },
  {
   "cell_type": "code",
   "execution_count": null,
   "metadata": {},
   "outputs": [],
   "source": []
  }
 ],
 "metadata": {
  "kernelspec": {
   "display_name": "Python 3",
   "language": "python",
   "name": "python3"
  },
  "language_info": {
   "codemirror_mode": {
    "name": "ipython",
    "version": 3
   },
   "file_extension": ".py",
   "mimetype": "text/x-python",
   "name": "python",
   "nbconvert_exporter": "python",
   "pygments_lexer": "ipython3",
   "version": "3.8.3"
  }
 },
 "nbformat": 4,
 "nbformat_minor": 4
}
