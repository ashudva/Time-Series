{
 "cells": [
  {
   "cell_type": "code",
   "execution_count": 1,
   "metadata": {},
   "outputs": [],
   "source": [
    "import pandas as pd\n",
    "import matplotlib.pyplot as plt\n",
    "import seaborn as sns\n",
    "import numpy as np"
   ]
  },
  {
   "cell_type": "code",
   "execution_count": 2,
   "metadata": {},
   "outputs": [],
   "source": [
    "# import csv file of google stock price\n",
    "df_train=pd.read_csv('Google_Stock_Price_Train.csv',header=0,parse_dates=[0])"
   ]
  },
  {
   "cell_type": "code",
   "execution_count": 3,
   "metadata": {},
   "outputs": [
    {
     "data": {
      "text/html": [
       "<div>\n",
       "<style scoped>\n",
       "    .dataframe tbody tr th:only-of-type {\n",
       "        vertical-align: middle;\n",
       "    }\n",
       "\n",
       "    .dataframe tbody tr th {\n",
       "        vertical-align: top;\n",
       "    }\n",
       "\n",
       "    .dataframe thead th {\n",
       "        text-align: right;\n",
       "    }\n",
       "</style>\n",
       "<table border=\"1\" class=\"dataframe\">\n",
       "  <thead>\n",
       "    <tr style=\"text-align: right;\">\n",
       "      <th></th>\n",
       "      <th>Date</th>\n",
       "      <th>Open</th>\n",
       "      <th>High</th>\n",
       "      <th>Low</th>\n",
       "      <th>Close</th>\n",
       "      <th>Volume</th>\n",
       "    </tr>\n",
       "  </thead>\n",
       "  <tbody>\n",
       "    <tr>\n",
       "      <th>0</th>\n",
       "      <td>2012-01-03</td>\n",
       "      <td>325.25</td>\n",
       "      <td>332.83</td>\n",
       "      <td>324.97</td>\n",
       "      <td>663.59</td>\n",
       "      <td>7,380,500</td>\n",
       "    </tr>\n",
       "    <tr>\n",
       "      <th>1</th>\n",
       "      <td>2012-01-04</td>\n",
       "      <td>331.27</td>\n",
       "      <td>333.87</td>\n",
       "      <td>329.08</td>\n",
       "      <td>666.45</td>\n",
       "      <td>5,749,400</td>\n",
       "    </tr>\n",
       "    <tr>\n",
       "      <th>2</th>\n",
       "      <td>2012-01-05</td>\n",
       "      <td>329.83</td>\n",
       "      <td>330.75</td>\n",
       "      <td>326.89</td>\n",
       "      <td>657.21</td>\n",
       "      <td>6,590,300</td>\n",
       "    </tr>\n",
       "    <tr>\n",
       "      <th>3</th>\n",
       "      <td>2012-01-06</td>\n",
       "      <td>328.34</td>\n",
       "      <td>328.77</td>\n",
       "      <td>323.68</td>\n",
       "      <td>648.24</td>\n",
       "      <td>5,405,900</td>\n",
       "    </tr>\n",
       "    <tr>\n",
       "      <th>4</th>\n",
       "      <td>2012-01-09</td>\n",
       "      <td>322.04</td>\n",
       "      <td>322.29</td>\n",
       "      <td>309.46</td>\n",
       "      <td>620.76</td>\n",
       "      <td>11,688,800</td>\n",
       "    </tr>\n",
       "  </tbody>\n",
       "</table>\n",
       "</div>"
      ],
      "text/plain": [
       "        Date    Open    High     Low   Close      Volume\n",
       "0 2012-01-03  325.25  332.83  324.97  663.59   7,380,500\n",
       "1 2012-01-04  331.27  333.87  329.08  666.45   5,749,400\n",
       "2 2012-01-05  329.83  330.75  326.89  657.21   6,590,300\n",
       "3 2012-01-06  328.34  328.77  323.68  648.24   5,405,900\n",
       "4 2012-01-09  322.04  322.29  309.46  620.76  11,688,800"
      ]
     },
     "execution_count": 3,
     "metadata": {},
     "output_type": "execute_result"
    }
   ],
   "source": [
    "df_train.head()"
   ]
  },
  {
   "cell_type": "code",
   "execution_count": 4,
   "metadata": {},
   "outputs": [
    {
     "name": "stdout",
     "output_type": "stream",
     "text": [
      "<class 'pandas.core.frame.DataFrame'>\n",
      "RangeIndex: 1258 entries, 0 to 1257\n",
      "Data columns (total 6 columns):\n",
      " #   Column  Non-Null Count  Dtype         \n",
      "---  ------  --------------  -----         \n",
      " 0   Date    1258 non-null   datetime64[ns]\n",
      " 1   Open    1258 non-null   float64       \n",
      " 2   High    1258 non-null   float64       \n",
      " 3   Low     1258 non-null   float64       \n",
      " 4   Close   1258 non-null   object        \n",
      " 5   Volume  1258 non-null   object        \n",
      "dtypes: datetime64[ns](1), float64(3), object(2)\n",
      "memory usage: 59.1+ KB\n"
     ]
    }
   ],
   "source": [
    "df_train.info()"
   ]
  },
  {
   "cell_type": "code",
   "execution_count": 5,
   "metadata": {},
   "outputs": [
    {
     "data": {
      "text/plain": [
       "Volume    0\n",
       "Close     0\n",
       "Low       0\n",
       "High      0\n",
       "Open      0\n",
       "Date      0\n",
       "dtype: int64"
      ]
     },
     "execution_count": 5,
     "metadata": {},
     "output_type": "execute_result"
    }
   ],
   "source": [
    "df_train.isnull().sum().sort_values(ascending=False)"
   ]
  },
  {
   "cell_type": "code",
   "execution_count": 6,
   "metadata": {},
   "outputs": [
    {
     "data": {
      "text/plain": [
       "dtype('<M8[ns]')"
      ]
     },
     "execution_count": 6,
     "metadata": {},
     "output_type": "execute_result"
    }
   ],
   "source": [
    "df_train.Date.dtypes"
   ]
  },
  {
   "cell_type": "markdown",
   "metadata": {},
   "source": [
    "## Data Visualization"
   ]
  },
  {
   "cell_type": "markdown",
   "metadata": {},
   "source": [
    "### Line plot"
   ]
  },
  {
   "cell_type": "code",
   "execution_count": 7,
   "metadata": {},
   "outputs": [],
   "source": [
    "df=df_train.copy()"
   ]
  },
  {
   "cell_type": "code",
   "execution_count": 8,
   "metadata": {},
   "outputs": [
    {
     "data": {
      "text/plain": [
       "<AxesSubplot:>"
      ]
     },
     "execution_count": 8,
     "metadata": {},
     "output_type": "execute_result"
    },
    {
     "data": {
      "image/png": "[encoded data removed]",
      "text/plain": [
       "<Figure size 432x288 with 1 Axes>"
      ]
     },
     "metadata": {
      "needs_background": "light"
     },
     "output_type": "display_data"
    }
   ],
   "source": [
    "df['Open'].plot()"
   ]
  },
  {
   "cell_type": "code",
   "execution_count": 9,
   "metadata": {},
   "outputs": [],
   "source": [
    "# now set index of date then plot \n",
    "df.index=df['Date']"
   ]
  },
  {
   "cell_type": "code",
   "execution_count": 10,
   "metadata": {},
   "outputs": [
    {
     "data": {
      "text/plain": [
       "<AxesSubplot:xlabel='Date'>"
      ]
     },
     "execution_count": 10,
     "metadata": {},
     "output_type": "execute_result"
    },
    {
     "data": {
      "image/png": "[encoded data removed]",
      "text/plain": [
       "<Figure size 432x288 with 1 Axes>"
      ]
     },
     "metadata": {
      "needs_background": "light"
     },
     "output_type": "display_data"
    }
   ],
   "source": [
    "df['Open'].plot()"
   ]
  },
  {
   "cell_type": "code",
   "execution_count": 11,
   "metadata": {},
   "outputs": [
    {
     "data": {
      "text/html": [
       "<div>\n",
       "<style scoped>\n",
       "    .dataframe tbody tr th:only-of-type {\n",
       "        vertical-align: middle;\n",
       "    }\n",
       "\n",
       "    .dataframe tbody tr th {\n",
       "        vertical-align: top;\n",
       "    }\n",
       "\n",
       "    .dataframe thead th {\n",
       "        text-align: right;\n",
       "    }\n",
       "</style>\n",
       "<table border=\"1\" class=\"dataframe\">\n",
       "  <thead>\n",
       "    <tr style=\"text-align: right;\">\n",
       "      <th></th>\n",
       "      <th>Date</th>\n",
       "      <th>Open</th>\n",
       "      <th>High</th>\n",
       "      <th>Low</th>\n",
       "      <th>Close</th>\n",
       "      <th>Volume</th>\n",
       "    </tr>\n",
       "    <tr>\n",
       "      <th>Date</th>\n",
       "      <th></th>\n",
       "      <th></th>\n",
       "      <th></th>\n",
       "      <th></th>\n",
       "      <th></th>\n",
       "      <th></th>\n",
       "    </tr>\n",
       "  </thead>\n",
       "  <tbody>\n",
       "    <tr>\n",
       "      <th>2012-01-03</th>\n",
       "      <td>2012-01-03</td>\n",
       "      <td>325.25</td>\n",
       "      <td>332.83</td>\n",
       "      <td>324.97</td>\n",
       "      <td>663.59</td>\n",
       "      <td>7,380,500</td>\n",
       "    </tr>\n",
       "    <tr>\n",
       "      <th>2012-01-04</th>\n",
       "      <td>2012-01-04</td>\n",
       "      <td>331.27</td>\n",
       "      <td>333.87</td>\n",
       "      <td>329.08</td>\n",
       "      <td>666.45</td>\n",
       "      <td>5,749,400</td>\n",
       "    </tr>\n",
       "    <tr>\n",
       "      <th>2012-01-05</th>\n",
       "      <td>2012-01-05</td>\n",
       "      <td>329.83</td>\n",
       "      <td>330.75</td>\n",
       "      <td>326.89</td>\n",
       "      <td>657.21</td>\n",
       "      <td>6,590,300</td>\n",
       "    </tr>\n",
       "    <tr>\n",
       "      <th>2012-01-06</th>\n",
       "      <td>2012-01-06</td>\n",
       "      <td>328.34</td>\n",
       "      <td>328.77</td>\n",
       "      <td>323.68</td>\n",
       "      <td>648.24</td>\n",
       "      <td>5,405,900</td>\n",
       "    </tr>\n",
       "    <tr>\n",
       "      <th>2012-01-09</th>\n",
       "      <td>2012-01-09</td>\n",
       "      <td>322.04</td>\n",
       "      <td>322.29</td>\n",
       "      <td>309.46</td>\n",
       "      <td>620.76</td>\n",
       "      <td>11,688,800</td>\n",
       "    </tr>\n",
       "  </tbody>\n",
       "</table>\n",
       "</div>"
      ],
      "text/plain": [
       "                 Date    Open    High     Low   Close      Volume\n",
       "Date                                                             \n",
       "2012-01-03 2012-01-03  325.25  332.83  324.97  663.59   7,380,500\n",
       "2012-01-04 2012-01-04  331.27  333.87  329.08  666.45   5,749,400\n",
       "2012-01-05 2012-01-05  329.83  330.75  326.89  657.21   6,590,300\n",
       "2012-01-06 2012-01-06  328.34  328.77  323.68  648.24   5,405,900\n",
       "2012-01-09 2012-01-09  322.04  322.29  309.46  620.76  11,688,800"
      ]
     },
     "execution_count": 11,
     "metadata": {},
     "output_type": "execute_result"
    }
   ],
   "source": [
    "# Zooming In\n",
    "df1=df[(df.Date>='2012-01-03') & (df.Date<='2012-12-30')]\n",
    "df1.head()"
   ]
  },
  {
   "cell_type": "code",
   "execution_count": 12,
   "metadata": {},
   "outputs": [
    {
     "data": {
      "text/plain": [
       "<AxesSubplot:xlabel='Date'>"
      ]
     },
     "execution_count": 12,
     "metadata": {},
     "output_type": "execute_result"
    },
    {
     "data": {
      "image/png": "[encoded data removed]",
      "text/plain": [
       "<Figure size 432x288 with 1 Axes>"
      ]
     },
     "metadata": {
      "needs_background": "light"
     },
     "output_type": "display_data"
    }
   ],
   "source": [
    "df1.Open.plot()"
   ]
  },
  {
   "cell_type": "markdown",
   "metadata": {},
   "source": [
    "### Adding Trend Line"
   ]
  },
  {
   "cell_type": "code",
   "execution_count": 13,
   "metadata": {},
   "outputs": [
    {
     "name": "stderr",
     "output_type": "stream",
     "text": [
      "C:\\ProgramData\\Anaconda3\\lib\\site-packages\\seaborn\\_decorators.py:36: FutureWarning: Pass the following variables as keyword args: x, y. From version 0.12, the only valid positional argument will be `data`, and passing other arguments without an explicit keyword will result in an error or misinterpretation.\n",
      "  warnings.warn(\n"
     ]
    },
    {
     "data": {
      "text/plain": [
       "<AxesSubplot:ylabel='Open'>"
      ]
     },
     "execution_count": 13,
     "metadata": {},
     "output_type": "execute_result"
    },
    {
     "data": {
      "image/png": "[encoded data removed]",
      "text/plain": [
       "<Figure size 432x288 with 1 Axes>"
      ]
     },
     "metadata": {
      "needs_background": "light"
     },
     "output_type": "display_data"
    }
   ],
   "source": [
    "sns.regplot(df_train.index,df.Open,order=2)"
   ]
  },
  {
   "cell_type": "markdown",
   "metadata": {},
   "source": [
    "### Remove Seasonability"
   ]
  },
  {
   "cell_type": "code",
   "execution_count": 14,
   "metadata": {},
   "outputs": [
    {
     "data": {
      "text/html": [
       "<div>\n",
       "<style scoped>\n",
       "    .dataframe tbody tr th:only-of-type {\n",
       "        vertical-align: middle;\n",
       "    }\n",
       "\n",
       "    .dataframe tbody tr th {\n",
       "        vertical-align: top;\n",
       "    }\n",
       "\n",
       "    .dataframe thead th {\n",
       "        text-align: right;\n",
       "    }\n",
       "</style>\n",
       "<table border=\"1\" class=\"dataframe\">\n",
       "  <thead>\n",
       "    <tr style=\"text-align: right;\">\n",
       "      <th></th>\n",
       "      <th>Date</th>\n",
       "      <th>Open</th>\n",
       "      <th>High</th>\n",
       "      <th>Low</th>\n",
       "      <th>Close</th>\n",
       "      <th>Volume</th>\n",
       "      <th>year</th>\n",
       "    </tr>\n",
       "    <tr>\n",
       "      <th>Date</th>\n",
       "      <th></th>\n",
       "      <th></th>\n",
       "      <th></th>\n",
       "      <th></th>\n",
       "      <th></th>\n",
       "      <th></th>\n",
       "      <th></th>\n",
       "    </tr>\n",
       "  </thead>\n",
       "  <tbody>\n",
       "    <tr>\n",
       "      <th>2012-01-03</th>\n",
       "      <td>2012-01-03</td>\n",
       "      <td>325.25</td>\n",
       "      <td>332.83</td>\n",
       "      <td>324.97</td>\n",
       "      <td>663.59</td>\n",
       "      <td>7,380,500</td>\n",
       "      <td>2012</td>\n",
       "    </tr>\n",
       "    <tr>\n",
       "      <th>2012-01-04</th>\n",
       "      <td>2012-01-04</td>\n",
       "      <td>331.27</td>\n",
       "      <td>333.87</td>\n",
       "      <td>329.08</td>\n",
       "      <td>666.45</td>\n",
       "      <td>5,749,400</td>\n",
       "      <td>2012</td>\n",
       "    </tr>\n",
       "    <tr>\n",
       "      <th>2012-01-05</th>\n",
       "      <td>2012-01-05</td>\n",
       "      <td>329.83</td>\n",
       "      <td>330.75</td>\n",
       "      <td>326.89</td>\n",
       "      <td>657.21</td>\n",
       "      <td>6,590,300</td>\n",
       "      <td>2012</td>\n",
       "    </tr>\n",
       "    <tr>\n",
       "      <th>2012-01-06</th>\n",
       "      <td>2012-01-06</td>\n",
       "      <td>328.34</td>\n",
       "      <td>328.77</td>\n",
       "      <td>323.68</td>\n",
       "      <td>648.24</td>\n",
       "      <td>5,405,900</td>\n",
       "      <td>2012</td>\n",
       "    </tr>\n",
       "    <tr>\n",
       "      <th>2012-01-09</th>\n",
       "      <td>2012-01-09</td>\n",
       "      <td>322.04</td>\n",
       "      <td>322.29</td>\n",
       "      <td>309.46</td>\n",
       "      <td>620.76</td>\n",
       "      <td>11,688,800</td>\n",
       "      <td>2012</td>\n",
       "    </tr>\n",
       "  </tbody>\n",
       "</table>\n",
       "</div>"
      ],
      "text/plain": [
       "                 Date    Open    High     Low   Close      Volume  year\n",
       "Date                                                                   \n",
       "2012-01-03 2012-01-03  325.25  332.83  324.97  663.59   7,380,500  2012\n",
       "2012-01-04 2012-01-04  331.27  333.87  329.08  666.45   5,749,400  2012\n",
       "2012-01-05 2012-01-05  329.83  330.75  326.89  657.21   6,590,300  2012\n",
       "2012-01-06 2012-01-06  328.34  328.77  323.68  648.24   5,405,900  2012\n",
       "2012-01-09 2012-01-09  322.04  322.29  309.46  620.76  11,688,800  2012"
      ]
     },
     "execution_count": 14,
     "metadata": {},
     "output_type": "execute_result"
    }
   ],
   "source": [
    "df['year']=df['Date'].dt.year\n",
    "df.head()"
   ]
  },
  {
   "cell_type": "code",
   "execution_count": 15,
   "metadata": {},
   "outputs": [
    {
     "data": {
      "text/plain": [
       "year\n",
       "2012    320.195040\n",
       "2013    440.160119\n",
       "2014    560.709643\n",
       "2015    602.057341\n",
       "2016    743.732460\n",
       "Name: Open, dtype: float64"
      ]
     },
     "execution_count": 15,
     "metadata": {},
     "output_type": "execute_result"
    }
   ],
   "source": [
    "df.groupby('year')['Open'].mean()"
   ]
  },
  {
   "cell_type": "code",
   "execution_count": 16,
   "metadata": {},
   "outputs": [
    {
     "data": {
      "text/plain": [
       "<AxesSubplot:xlabel='year'>"
      ]
     },
     "execution_count": 16,
     "metadata": {},
     "output_type": "execute_result"
    },
    {
     "data": {
      "image/png": "[encoded data removed]",
      "text/plain": [
       "<Figure size 432x288 with 1 Axes>"
      ]
     },
     "metadata": {
      "needs_background": "light"
     },
     "output_type": "display_data"
    }
   ],
   "source": [
    "df.groupby('year')['Open'].mean().plot()"
   ]
  },
  {
   "cell_type": "markdown",
   "metadata": {},
   "source": [
    "### Creating Lag plot"
   ]
  },
  {
   "cell_type": "code",
   "execution_count": 17,
   "metadata": {},
   "outputs": [
    {
     "data": {
      "text/plain": [
       "<AxesSubplot:xlabel='y(t)', ylabel='y(t + 2)'>"
      ]
     },
     "execution_count": 17,
     "metadata": {},
     "output_type": "execute_result"
    },
    {
     "data": {
      "image/png": "[encoded data removed]",
      "text/plain": [
       "<Figure size 432x288 with 1 Axes>"
      ]
     },
     "metadata": {
      "needs_background": "light"
     },
     "output_type": "display_data"
    }
   ],
   "source": [
    "from pandas.plotting import lag_plot\n",
    "lag_plot(df.Open,lag=2)"
   ]
  },
  {
   "cell_type": "code",
   "execution_count": 18,
   "metadata": {},
   "outputs": [
    {
     "data": {
      "text/plain": [
       "<AxesSubplot:xlabel='Lag', ylabel='Autocorrelation'>"
      ]
     },
     "execution_count": 18,
     "metadata": {},
     "output_type": "execute_result"
    },
    {
     "data": {
      "image/png": "[encoded data removed]",
      "text/plain": [
       "<Figure size 432x288 with 1 Axes>"
      ]
     },
     "metadata": {
      "needs_background": "light"
     },
     "output_type": "display_data"
    }
   ],
   "source": [
    "from pandas.plotting import autocorrelation_plot as ap\n",
    "ap(df.Open)"
   ]
  },
  {
   "cell_type": "code",
   "execution_count": 19,
   "metadata": {},
   "outputs": [
    {
     "data": {
      "text/plain": [
       "array([<AxesSubplot:xlabel='Date'>, <AxesSubplot:xlabel='Date'>,\n",
       "       <AxesSubplot:xlabel='Date'>], dtype=object)"
      ]
     },
     "execution_count": 19,
     "metadata": {},
     "output_type": "execute_result"
    },
    {
     "data": {
      "image/png": "[encoded data removed]",
      "text/plain": [
       "<Figure size 432x288 with 3 Axes>"
      ]
     },
     "metadata": {
      "needs_background": "light"
     },
     "output_type": "display_data"
    }
   ],
   "source": [
    "df_train.set_index('Date')[['Open','High','Low']].plot(subplots=True)"
   ]
  },
  {
   "cell_type": "code",
   "execution_count": 20,
   "metadata": {},
   "outputs": [
    {
     "data": {
      "text/html": [
       "<div>\n",
       "<style scoped>\n",
       "    .dataframe tbody tr th:only-of-type {\n",
       "        vertical-align: middle;\n",
       "    }\n",
       "\n",
       "    .dataframe tbody tr th {\n",
       "        vertical-align: top;\n",
       "    }\n",
       "\n",
       "    .dataframe thead th {\n",
       "        text-align: right;\n",
       "    }\n",
       "</style>\n",
       "<table border=\"1\" class=\"dataframe\">\n",
       "  <thead>\n",
       "    <tr style=\"text-align: right;\">\n",
       "      <th></th>\n",
       "      <th>Open</th>\n",
       "      <th>High</th>\n",
       "      <th>Low</th>\n",
       "    </tr>\n",
       "  </thead>\n",
       "  <tbody>\n",
       "    <tr>\n",
       "      <th>0</th>\n",
       "      <td>325.25</td>\n",
       "      <td>332.83</td>\n",
       "      <td>324.97</td>\n",
       "    </tr>\n",
       "    <tr>\n",
       "      <th>1</th>\n",
       "      <td>331.27</td>\n",
       "      <td>333.87</td>\n",
       "      <td>329.08</td>\n",
       "    </tr>\n",
       "    <tr>\n",
       "      <th>2</th>\n",
       "      <td>329.83</td>\n",
       "      <td>330.75</td>\n",
       "      <td>326.89</td>\n",
       "    </tr>\n",
       "    <tr>\n",
       "      <th>3</th>\n",
       "      <td>328.34</td>\n",
       "      <td>328.77</td>\n",
       "      <td>323.68</td>\n",
       "    </tr>\n",
       "    <tr>\n",
       "      <th>4</th>\n",
       "      <td>322.04</td>\n",
       "      <td>322.29</td>\n",
       "      <td>309.46</td>\n",
       "    </tr>\n",
       "    <tr>\n",
       "      <th>...</th>\n",
       "      <td>...</td>\n",
       "      <td>...</td>\n",
       "      <td>...</td>\n",
       "    </tr>\n",
       "    <tr>\n",
       "      <th>1253</th>\n",
       "      <td>790.90</td>\n",
       "      <td>792.74</td>\n",
       "      <td>787.28</td>\n",
       "    </tr>\n",
       "    <tr>\n",
       "      <th>1254</th>\n",
       "      <td>790.68</td>\n",
       "      <td>797.86</td>\n",
       "      <td>787.66</td>\n",
       "    </tr>\n",
       "    <tr>\n",
       "      <th>1255</th>\n",
       "      <td>793.70</td>\n",
       "      <td>794.23</td>\n",
       "      <td>783.20</td>\n",
       "    </tr>\n",
       "    <tr>\n",
       "      <th>1256</th>\n",
       "      <td>783.33</td>\n",
       "      <td>785.93</td>\n",
       "      <td>778.92</td>\n",
       "    </tr>\n",
       "    <tr>\n",
       "      <th>1257</th>\n",
       "      <td>782.75</td>\n",
       "      <td>782.78</td>\n",
       "      <td>770.41</td>\n",
       "    </tr>\n",
       "  </tbody>\n",
       "</table>\n",
       "<p>1258 rows × 3 columns</p>\n",
       "</div>"
      ],
      "text/plain": [
       "        Open    High     Low\n",
       "0     325.25  332.83  324.97\n",
       "1     331.27  333.87  329.08\n",
       "2     329.83  330.75  326.89\n",
       "3     328.34  328.77  323.68\n",
       "4     322.04  322.29  309.46\n",
       "...      ...     ...     ...\n",
       "1253  790.90  792.74  787.28\n",
       "1254  790.68  797.86  787.66\n",
       "1255  793.70  794.23  783.20\n",
       "1256  783.33  785.93  778.92\n",
       "1257  782.75  782.78  770.41\n",
       "\n",
       "[1258 rows x 3 columns]"
      ]
     },
     "execution_count": 20,
     "metadata": {},
     "output_type": "execute_result"
    }
   ],
   "source": [
    "# Take input features\n",
    "X=df_train[['Open','High','Low']]\n",
    "X"
   ]
  },
  {
   "cell_type": "code",
   "execution_count": 21,
   "metadata": {},
   "outputs": [
    {
     "data": {
      "text/html": [
       "<div>\n",
       "<style scoped>\n",
       "    .dataframe tbody tr th:only-of-type {\n",
       "        vertical-align: middle;\n",
       "    }\n",
       "\n",
       "    .dataframe tbody tr th {\n",
       "        vertical-align: top;\n",
       "    }\n",
       "\n",
       "    .dataframe thead th {\n",
       "        text-align: right;\n",
       "    }\n",
       "</style>\n",
       "<table border=\"1\" class=\"dataframe\">\n",
       "  <thead>\n",
       "    <tr style=\"text-align: right;\">\n",
       "      <th></th>\n",
       "      <th>Open</th>\n",
       "      <th>High</th>\n",
       "      <th>Low</th>\n",
       "    </tr>\n",
       "  </thead>\n",
       "  <tbody>\n",
       "    <tr>\n",
       "      <th>count</th>\n",
       "      <td>1258.000000</td>\n",
       "      <td>1258.000000</td>\n",
       "      <td>1258.000000</td>\n",
       "    </tr>\n",
       "    <tr>\n",
       "      <th>mean</th>\n",
       "      <td>533.709833</td>\n",
       "      <td>537.880223</td>\n",
       "      <td>529.007409</td>\n",
       "    </tr>\n",
       "    <tr>\n",
       "      <th>std</th>\n",
       "      <td>151.904442</td>\n",
       "      <td>153.008811</td>\n",
       "      <td>150.552807</td>\n",
       "    </tr>\n",
       "    <tr>\n",
       "      <th>min</th>\n",
       "      <td>279.120000</td>\n",
       "      <td>281.210000</td>\n",
       "      <td>277.220000</td>\n",
       "    </tr>\n",
       "    <tr>\n",
       "      <th>25%</th>\n",
       "      <td>404.115000</td>\n",
       "      <td>406.765000</td>\n",
       "      <td>401.765000</td>\n",
       "    </tr>\n",
       "    <tr>\n",
       "      <th>50%</th>\n",
       "      <td>537.470000</td>\n",
       "      <td>540.750000</td>\n",
       "      <td>532.990000</td>\n",
       "    </tr>\n",
       "    <tr>\n",
       "      <th>75%</th>\n",
       "      <td>654.922500</td>\n",
       "      <td>662.587500</td>\n",
       "      <td>644.800000</td>\n",
       "    </tr>\n",
       "    <tr>\n",
       "      <th>max</th>\n",
       "      <td>816.680000</td>\n",
       "      <td>816.680000</td>\n",
       "      <td>805.140000</td>\n",
       "    </tr>\n",
       "  </tbody>\n",
       "</table>\n",
       "</div>"
      ],
      "text/plain": [
       "              Open         High          Low\n",
       "count  1258.000000  1258.000000  1258.000000\n",
       "mean    533.709833   537.880223   529.007409\n",
       "std     151.904442   153.008811   150.552807\n",
       "min     279.120000   281.210000   277.220000\n",
       "25%     404.115000   406.765000   401.765000\n",
       "50%     537.470000   540.750000   532.990000\n",
       "75%     654.922500   662.587500   644.800000\n",
       "max     816.680000   816.680000   805.140000"
      ]
     },
     "execution_count": 21,
     "metadata": {},
     "output_type": "execute_result"
    }
   ],
   "source": [
    "X.describe()"
   ]
  },
  {
   "cell_type": "code",
   "execution_count": 22,
   "metadata": {},
   "outputs": [],
   "source": [
    "## Feature Scaling tha Data\n",
    "from sklearn.preprocessing import MinMaxScaler\n",
    "sc=MinMaxScaler()\n",
    "X_scaled=sc.fit_transform(X)"
   ]
  },
  {
   "cell_type": "code",
   "execution_count": 23,
   "metadata": {},
   "outputs": [
    {
     "data": {
      "text/plain": [
       "array([[0.08581368, 0.09640129, 0.09044931],\n",
       "       [0.09701243, 0.09834351, 0.09823458],\n",
       "       [0.09433366, 0.09251685, 0.09408623],\n",
       "       ...,\n",
       "       [0.95725128, 0.95807422, 0.95844067],\n",
       "       [0.93796041, 0.94257381, 0.95033338],\n",
       "       [0.93688146, 0.93669113, 0.93421352]])"
      ]
     },
     "execution_count": 23,
     "metadata": {},
     "output_type": "execute_result"
    }
   ],
   "source": [
    "X_scaled"
   ]
  },
  {
   "cell_type": "code",
   "execution_count": 24,
   "metadata": {},
   "outputs": [
    {
     "data": {
      "text/plain": [
       "array([0.08581368, 0.09701243, 0.09433366, ..., 0.95725128, 0.93796041,\n",
       "       0.93688146])"
      ]
     },
     "execution_count": 24,
     "metadata": {},
     "output_type": "execute_result"
    }
   ],
   "source": [
    "#Take Output \n",
    "Y=X_scaled[:,0]\n",
    "Y"
   ]
  },
  {
   "cell_type": "code",
   "execution_count": 25,
   "metadata": {},
   "outputs": [],
   "source": [
    "## Preparation of Time Series Model\n",
    "from keras.preprocessing.sequence import TimeseriesGenerator\n",
    "import tensorflow as tf"
   ]
  },
  {
   "cell_type": "code",
   "execution_count": 26,
   "metadata": {},
   "outputs": [
    {
     "data": {
      "text/plain": [
       "(array([[[0.08581368, 0.09640129, 0.09044931],\n",
       "         [0.09701243, 0.09834351, 0.09823458]],\n",
       " \n",
       "        [[0.09701243, 0.09834351, 0.09823458],\n",
       "         [0.09433366, 0.09251685, 0.09408623]],\n",
       " \n",
       "        [[0.09433366, 0.09251685, 0.09408623],\n",
       "         [0.09156187, 0.08881917, 0.08800576]],\n",
       " \n",
       "        [[0.09156187, 0.08881917, 0.08800576],\n",
       "         [0.07984225, 0.07671765, 0.06106986]],\n",
       " \n",
       "        [[0.07984225, 0.07671765, 0.06106986],\n",
       "         [0.0643277 , 0.06444805, 0.05697833]],\n",
       " \n",
       "        [[0.0643277 , 0.06444805, 0.05697833],\n",
       "         [0.0585423 , 0.06033951, 0.06095621]],\n",
       " \n",
       "        [[0.0585423 , 0.06033951, 0.06095621],\n",
       "         [0.06568569, 0.063589  , 0.06603273]],\n",
       " \n",
       "        [[0.06568569, 0.063589  , 0.06603273],\n",
       "         [0.06109085, 0.05806114, 0.06089938]],\n",
       " \n",
       "        [[0.06109085, 0.05806114, 0.06089938],\n",
       "         [0.06639259, 0.06274861, 0.0652561 ]],\n",
       " \n",
       "        [[0.06639259, 0.06274861, 0.0652561 ],\n",
       "         [0.0614257 , 0.06463481, 0.06190332]]]),\n",
       " array([0.09433366, 0.09156187, 0.07984225, 0.0643277 , 0.0585423 ,\n",
       "        0.06568569, 0.06109085, 0.06639259, 0.0614257 , 0.07474514]))"
      ]
     },
     "execution_count": 26,
     "metadata": {},
     "output_type": "execute_result"
    }
   ],
   "source": [
    "#for sample\n",
    "TimeseriesGenerator(X_scaled,Y,length=2,batch_size=10)[0]"
   ]
  },
  {
   "cell_type": "markdown",
   "metadata": {},
   "source": [
    "### Now Split the Data into training and testing"
   ]
  },
  {
   "cell_type": "code",
   "execution_count": 27,
   "metadata": {},
   "outputs": [],
   "source": [
    "from sklearn.model_selection import train_test_split\n",
    "x_train,x_valid,y_train,y_valid=train_test_split(X_scaled,Y,test_size=0.25,shuffle=False,random_state=123)"
   ]
  },
  {
   "cell_type": "code",
   "execution_count": 28,
   "metadata": {},
   "outputs": [
    {
     "data": {
      "text/plain": [
       "(943, 3)"
      ]
     },
     "execution_count": 28,
     "metadata": {},
     "output_type": "execute_result"
    }
   ],
   "source": [
    "x_train.shape"
   ]
  },
  {
   "cell_type": "code",
   "execution_count": 29,
   "metadata": {},
   "outputs": [
    {
     "data": {
      "text/plain": [
       "(315, 3)"
      ]
     },
     "execution_count": 29,
     "metadata": {},
     "output_type": "execute_result"
    }
   ],
   "source": [
    "x_valid.shape"
   ]
  },
  {
   "cell_type": "code",
   "execution_count": 30,
   "metadata": {},
   "outputs": [],
   "source": [
    "train_generator=TimeseriesGenerator(x_train,y_train,length=10,batch_size=32)\n",
    "valid_generator=TimeseriesGenerator(x_valid,y_valid,length=10,batch_size=32)"
   ]
  },
  {
   "cell_type": "code",
   "execution_count": 31,
   "metadata": {},
   "outputs": [],
   "source": [
    "num_features=3\n",
    "max_length=10"
   ]
  },
  {
   "cell_type": "markdown",
   "metadata": {},
   "source": [
    "### Define LSTM Model"
   ]
  },
  {
   "cell_type": "code",
   "execution_count": 32,
   "metadata": {},
   "outputs": [],
   "source": [
    "def LSTM_Model(max_length,num_feature):\n",
    "    from keras.layers import LSTM,Dropout,Dense,LeakyReLU\n",
    "    from keras import Sequential\n",
    "    model=Sequential()\n",
    "    model.add(LSTM(128,input_shape=(max_length,num_features),return_sequences=True))\n",
    "    model.add(LeakyReLU(alpha=0.5))\n",
    "    model.add(Dropout(0.3))\n",
    "    model.add(LSTM(128,return_sequences=True))\n",
    "    model.add(LeakyReLU(alpha=0.5))\n",
    "    model.add(Dropout(0.3))\n",
    "    model.add(LSTM(64,return_sequences=True))\n",
    "    model.add(Dropout(0.3))\n",
    "    model.add(LSTM(64))\n",
    "    model.add(Dropout(0.3))\n",
    "    model.add(Dense(1))\n",
    "    model.compile(optimizer='Adam',loss='mean_squared_error',metrics=['mean_squared_error'])\n",
    "    return model"
   ]
  },
  {
   "cell_type": "code",
   "execution_count": 33,
   "metadata": {},
   "outputs": [],
   "source": [
    "model=LSTM_Model(10,3)"
   ]
  },
  {
   "cell_type": "code",
   "execution_count": 34,
   "metadata": {},
   "outputs": [],
   "source": [
    "from keras.callbacks import EarlyStopping\n",
    "early_stopping=EarlyStopping(patience=4)"
   ]
  },
  {
   "cell_type": "code",
   "execution_count": 35,
   "metadata": {},
   "outputs": [
    {
     "name": "stdout",
     "output_type": "stream",
     "text": [
      "Epoch 1/10\n",
      "30/30 [==============================] - 3s 86ms/step - loss: 0.0077 - mean_squared_error: 0.0077 - val_loss: 0.0048 - val_mean_squared_error: 0.0048\n",
      "Epoch 2/10\n",
      "30/30 [==============================] - 1s 19ms/step - loss: 0.0372 - mean_squared_error: 0.0372 - val_loss: 0.0713 - val_mean_squared_error: 0.0713\n",
      "Epoch 3/10\n",
      "30/30 [==============================] - 1s 19ms/step - loss: 0.0088 - mean_squared_error: 0.0088 - val_loss: 0.0137 - val_mean_squared_error: 0.0137\n",
      "Epoch 4/10\n",
      "30/30 [==============================] - 1s 19ms/step - loss: 0.0048 - mean_squared_error: 0.0048 - val_loss: 0.0118 - val_mean_squared_error: 0.0118\n",
      "Epoch 5/10\n",
      "30/30 [==============================] - 1s 20ms/step - loss: 0.0041 - mean_squared_error: 0.0041 - val_loss: 0.0026 - val_mean_squared_error: 0.0026\n",
      "Epoch 6/10\n",
      "30/30 [==============================] - 1s 19ms/step - loss: 0.0037 - mean_squared_error: 0.0037 - val_loss: 0.0135 - val_mean_squared_error: 0.0135\n",
      "Epoch 7/10\n",
      "30/30 [==============================] - 1s 20ms/step - loss: 0.0090 - mean_squared_error: 0.0090 - val_loss: 0.0443 - val_mean_squared_error: 0.0443\n",
      "Epoch 8/10\n",
      "30/30 [==============================] - 1s 23ms/step - loss: 0.0083 - mean_squared_error: 0.0083 - val_loss: 0.0071 - val_mean_squared_error: 0.0071\n",
      "Epoch 9/10\n",
      "30/30 [==============================] - 1s 23ms/step - loss: 0.0057 - mean_squared_error: 0.0057 - val_loss: 0.0197 - val_mean_squared_error: 0.0197\n"
     ]
    }
   ],
   "source": [
    "model_hist=model.fit(train_generator,validation_data=valid_generator,shuffle=False,callbacks=[early_stopping],epochs=10)"
   ]
  },
  {
   "cell_type": "code",
   "execution_count": 36,
   "metadata": {},
   "outputs": [
    {
     "data": {
      "image/png": "[encoded data removed]",
      "text/plain": [
       "<Figure size 432x288 with 1 Axes>"
      ]
     },
     "metadata": {
      "needs_background": "light"
     },
     "output_type": "display_data"
    }
   ],
   "source": [
    "pd.DataFrame(model_hist.history).plot()\n",
    "plt.gca().set_ylim(0,1)\n",
    "plt.show()"
   ]
  },
  {
   "cell_type": "code",
   "execution_count": 37,
   "metadata": {},
   "outputs": [
    {
     "data": {
      "text/plain": [
       "[0.01966203935444355, 0.01966203935444355]"
      ]
     },
     "execution_count": 37,
     "metadata": {},
     "output_type": "execute_result"
    }
   ],
   "source": [
    "model.evaluate(valid_generator,verbose=0)"
   ]
  },
  {
   "cell_type": "code",
   "execution_count": 71,
   "metadata": {},
   "outputs": [
    {
     "data": {
      "text/plain": [
       "(305, 1)"
      ]
     },
     "execution_count": 71,
     "metadata": {},
     "output_type": "execute_result"
    }
   ],
   "source": [
    "# predict_generate has been replaced with only `predict` in new version\n",
    "valid_pred=model.predict(valid_generator)\n",
    "valid_pred.shape"
   ]
  },
  {
   "cell_type": "code",
   "execution_count": 39,
   "metadata": {},
   "outputs": [],
   "source": [
    "final_df=pd.concat([pd.DataFrame(valid_pred),pd.DataFrame(x_valid[:,1:][10:])],axis=1)"
   ]
  },
  {
   "cell_type": "code",
   "execution_count": 40,
   "metadata": {},
   "outputs": [
    {
     "data": {
      "text/plain": [
       "(305, 3)"
      ]
     },
     "execution_count": 40,
     "metadata": {},
     "output_type": "execute_result"
    }
   ],
   "source": [
    "final_df.shape"
   ]
  },
  {
   "cell_type": "code",
   "execution_count": 41,
   "metadata": {},
   "outputs": [
    {
     "data": {
      "text/plain": [
       "array([[620.90286099, 664.97      , 657.2       ],\n",
       "       [624.08876894, 666.82      , 659.58      ],\n",
       "       [625.48178663, 664.72      , 644.2       ],\n",
       "       [626.43199668, 655.87      , 641.73      ],\n",
       "       [627.37413239, 657.8       , 644.01      ],\n",
       "       [629.10069764, 730.        , 701.5       ],\n",
       "       [630.80111737, 719.15      , 701.26      ],\n",
       "       [632.67987772, 713.62      , 704.55      ],\n",
       "       [634.67328103, 712.98      , 703.08      ],\n",
       "       [636.77946891, 718.26      , 710.01      ],\n",
       "       [639.24538192, 718.        , 710.05      ],\n",
       "       [641.96829637, 721.62      , 705.85      ],\n",
       "       [645.27163486, 724.65      , 714.72      ],\n",
       "       [649.47401381, 733.1       , 721.9       ],\n",
       "       [654.59129355, 739.48      , 729.47      ],\n",
       "       [659.9231844 , 735.41      , 727.01      ],\n",
       "       [659.66230599, 734.71      , 719.43      ],\n",
       "       [660.65333637, 730.59      , 718.5       ],\n",
       "       [661.76362363, 741.        , 730.23      ],\n",
       "       [663.11972999, 737.8       , 728.65      ],\n",
       "       [664.23203584, 731.15      , 716.73      ],\n",
       "       [665.3311728 , 729.49      , 711.33      ],\n",
       "       [666.59945459, 731.84      , 723.03      ],\n",
       "       [667.33530987, 741.41      , 727.        ],\n",
       "       [667.54517889, 742.        , 737.43      ],\n",
       "       [667.20064124, 757.92      , 743.        ],\n",
       "       [667.05267556, 762.71      , 751.82      ],\n",
       "       [667.32005831, 755.28      , 737.63      ],\n",
       "       [668.08859549, 752.        , 746.06      ],\n",
       "       [668.32300798, 753.41      , 747.49      ],\n",
       "       [668.99888237, 754.93      , 741.27      ],\n",
       "       [670.45444422, 768.95      , 746.7       ],\n",
       "       [672.63330126, 775.96      , 758.96      ],\n",
       "       [674.28178242, 768.99      , 745.63      ],\n",
       "       [675.76976984, 768.49      , 750.        ],\n",
       "       [676.81792946, 768.73      , 755.09      ],\n",
       "       [677.23561688, 764.8       , 754.2       ],\n",
       "       [677.16727327, 764.23      , 737.        ],\n",
       "       [677.86499968, 755.85      , 743.83      ],\n",
       "       [678.59246019, 745.71      , 736.75      ],\n",
       "       [679.21521049, 748.73      , 724.17      ],\n",
       "       [679.81591652, 758.08      , 743.01      ],\n",
       "       [679.80986076, 760.59      , 739.43      ],\n",
       "       [678.63898383, 762.68      , 749.        ],\n",
       "       [677.91142719, 754.13      , 738.15      ],\n",
       "       [677.31834693, 750.        , 740.        ],\n",
       "       [676.16640628, 754.85      , 745.53      ],\n",
       "       [675.36153453, 754.21      , 744.        ],\n",
       "       [674.98002148, 751.35      , 746.62      ],\n",
       "       [674.85317087, 762.99      , 749.52      ],\n",
       "       [675.504662  , 779.98      , 766.43      ],\n",
       "       [676.43644844, 777.6       , 766.9       ],\n",
       "       [676.51437233, 769.5       , 758.34      ],\n",
       "       [676.85218136, 744.06      , 731.26      ],\n",
       "       [676.73436634, 752.        , 738.64      ],\n",
       "       [677.57541246, 747.18      , 728.92      ],\n",
       "       [678.46868553, 738.5       , 719.06      ],\n",
       "       [678.83972115, 733.23      , 713.        ],\n",
       "       [678.97304406, 718.85      , 703.54      ],\n",
       "       [678.83517132, 728.75      , 717.32      ],\n",
       "       [677.78483291, 734.74      , 698.61      ],\n",
       "       [675.06954423, 721.92      , 689.1       ],\n",
       "       [671.67709952, 706.74      , 685.37      ],\n",
       "       [668.43854809, 709.98      , 693.41      ],\n",
       "       [666.84187734, 706.85      , 673.26      ],\n",
       "       [664.34786432, 719.19      , 694.46      ],\n",
       "       [662.31524274, 728.13      , 720.12      ],\n",
       "       [660.53734769, 729.68      , 710.01      ],\n",
       "       [658.9347173 , 718.28      , 706.48      ],\n",
       "       [658.38005429, 718.23      , 694.39      ],\n",
       "       [657.09578401, 733.69      , 712.35      ],\n",
       "       [656.04720786, 744.99      , 726.8       ],\n",
       "       [656.58991955, 757.86      , 743.27      ],\n",
       "       [658.36803889, 789.87      , 764.65      ],\n",
       "       [660.01232267, 774.5       , 720.5       ],\n",
       "       [663.1634981 , 727.        , 701.86      ],\n",
       "       [665.42575805, 703.99      , 680.15      ],\n",
       "       [666.42002458, 684.03      , 663.06      ],\n",
       "       [667.57971917, 699.9       , 668.77      ],\n",
       "       [669.06059347, 701.31      , 682.13      ],\n",
       "       [670.2870937 , 689.35      , 668.87      ],\n",
       "       [669.68385642, 693.75      , 678.6       ],\n",
       "       [667.33585456, 698.        , 685.05      ],\n",
       "       [662.9007613 , 709.75      , 691.38      ],\n",
       "       [655.4378187 , 712.35      , 696.03      ],\n",
       "       [649.66754189, 703.08      , 694.05      ],\n",
       "       [647.20505728, 713.24      , 702.51      ],\n",
       "       [646.83325267, 708.4       , 693.58      ],\n",
       "       [648.83319235, 700.        , 680.78      ],\n",
       "       [650.25549557, 705.98      , 690.59      ],\n",
       "       [650.98901186, 713.43      , 700.86      ],\n",
       "       [652.86562545, 710.89      , 697.68      ],\n",
       "       [653.96187872, 718.81      , 699.77      ],\n",
       "       [654.71481189, 720.        , 712.        ],\n",
       "       [654.88610346, 719.45      , 706.02      ],\n",
       "       [654.65044137, 716.49      , 706.02      ],\n",
       "       [655.30523274, 708.09      , 686.9       ],\n",
       "       [655.23692117, 703.79      , 685.34      ],\n",
       "       [655.79623014, 705.68      , 694.        ],\n",
       "       [657.27316339, 716.44      , 703.36      ],\n",
       "       [657.94753185, 726.92      , 717.13      ],\n",
       "       [657.87121001, 735.5       , 725.15      ],\n",
       "       [658.21686911, 732.29      , 724.77      ],\n",
       "       [658.30818617, 737.47      , 724.51      ],\n",
       "       [657.8240776 , 743.07      , 736.        ],\n",
       "       [657.84064283, 742.        , 731.83      ],\n",
       "       [658.4419256 , 742.5       , 733.52      ],\n",
       "       [660.40972809, 745.        , 737.46      ],\n",
       "       [663.36208867, 745.72      , 736.15      ],\n",
       "       [666.010796  , 737.75      , 731.        ],\n",
       "       [668.02525029, 738.99      , 732.5       ],\n",
       "       [669.19468536, 747.25      , 728.76      ],\n",
       "       [669.81900567, 757.88      , 748.74      ],\n",
       "       [670.60375562, 750.85      , 740.94      ],\n",
       "       [671.33986723, 750.34      , 737.        ],\n",
       "       [671.45226732, 752.8       , 742.43      ],\n",
       "       [671.63925902, 742.8       , 735.37      ],\n",
       "       [671.98043236, 746.24      , 735.56      ],\n",
       "       [672.18783422, 747.        , 736.28      ],\n",
       "       [672.32875086, 745.45      , 735.55      ],\n",
       "       [673.08822041, 745.        , 736.05      ],\n",
       "       [673.63612276, 743.83      , 731.01      ],\n",
       "       [674.05512387, 754.38      , 744.26      ],\n",
       "       [673.27562865, 757.31      , 752.71      ],\n",
       "       [672.90853408, 761.        , 752.69      ],\n",
       "       [672.99680723, 768.05      , 757.3       ],\n",
       "       [672.73820373, 769.9       , 749.33      ],\n",
       "       [673.41503936, 758.13      , 750.01      ],\n",
       "       [674.2518881 , 760.45      , 749.55      ],\n",
       "       [674.99232525, 736.12      , 713.61      ],\n",
       "       [675.90802707, 723.93      , 715.59      ],\n",
       "       [676.77986466, 725.77      , 703.03      ],\n",
       "       [677.69720058, 708.98      , 692.36      ],\n",
       "       [677.35586703, 714.17      , 689.55      ],\n",
       "       [676.09216712, 697.62      , 689.        ],\n",
       "       [674.10270486, 700.64      , 691.        ],\n",
       "       [670.97152306, 697.84      , 692.        ],\n",
       "       [667.08923443, 699.75      , 689.01      ],\n",
       "       [663.21928161, 702.32      , 695.72      ],\n",
       "       [658.92180475, 711.86      , 698.11      ],\n",
       "       [656.77409164, 718.71      , 710.        ],\n",
       "       [655.09869598, 723.5       , 715.72      ],\n",
       "       [653.50590221, 724.48      , 712.8       ],\n",
       "       [653.38155081, 719.25      , 709.        ],\n",
       "       [653.41705231, 716.66      , 709.26      ],\n",
       "       [654.69946421, 718.48      , 705.65      ],\n",
       "       [655.8679701 , 721.52      , 704.11      ],\n",
       "       [657.28210285, 711.6       , 700.63      ],\n",
       "       [658.97547355, 706.        , 696.8       ],\n",
       "       [660.19293819, 714.58      , 700.52      ],\n",
       "       [660.95740615, 711.48      , 704.18      ],\n",
       "       [660.7145989 , 720.97      , 706.86      ],\n",
       "       [659.9415119 , 727.51      , 719.71      ],\n",
       "       [658.99623616, 728.33      , 720.28      ],\n",
       "       [658.51984949, 733.94      , 724.        ],\n",
       "       [658.38418759, 739.73      , 731.26      ],\n",
       "       [658.59001944, 737.21      , 730.66      ],\n",
       "       [658.85724199, 733.02      , 724.17      ],\n",
       "       [660.14164044, 729.49      , 720.56      ],\n",
       "       [661.97442184, 724.91      , 714.61      ],\n",
       "       [663.66391557, 721.98      , 716.55      ],\n",
       "       [665.28404038, 728.57      , 720.58      ],\n",
       "       [666.55972366, 729.54      , 722.34      ],\n",
       "       [666.91326485, 725.89      , 716.43      ],\n",
       "       [667.08779258, 725.44      , 716.51      ],\n",
       "       [666.87532822, 722.47      , 713.12      ],\n",
       "       [666.00381104, 722.98      , 717.31      ],\n",
       "       [665.04882687, 716.65      , 703.26      ],\n",
       "       [664.34107161, 708.82      , 688.45      ],\n",
       "       [663.79067006, 702.48      , 693.41      ],\n",
       "       [663.45904495, 702.77      , 692.01      ],\n",
       "       [663.05574397, 700.86      , 693.08      ],\n",
       "       [661.98159904, 701.95      , 687.        ],\n",
       "       [660.57810393, 689.4       , 673.45      ],\n",
       "       [659.19879983, 672.3       , 663.28      ],\n",
       "       [657.52279539, 680.33      , 673.        ],\n",
       "       [655.60738005, 687.43      , 681.41      ],\n",
       "       [653.11778869, 692.32      , 683.65      ],\n",
       "       [651.01147265, 700.65      , 692.13      ],\n",
       "       [649.53514817, 696.94      , 688.88      ],\n",
       "       [648.31428718, 701.68      , 689.09      ],\n",
       "       [647.15805302, 698.2       , 688.22      ],\n",
       "       [646.13164929, 705.71      , 696.43      ],\n",
       "       [645.51332067, 716.51      , 707.24      ],\n",
       "       [646.59217563, 722.94      , 715.91      ],\n",
       "       [648.88766217, 724.        , 716.85      ],\n",
       "       [650.75857246, 722.21      , 718.03      ],\n",
       "       [652.40192704, 725.74      , 719.05      ],\n",
       "       [654.1035323 , 736.13      , 721.19      ],\n",
       "       [655.48722603, 736.99      , 729.        ],\n",
       "       [657.29761073, 742.13      , 737.1       ],\n",
       "       [659.46435624, 741.69      , 735.83      ],\n",
       "       [661.82264328, 743.24      , 736.56      ],\n",
       "       [663.97086905, 742.61      , 737.5       ],\n",
       "       [665.5395359 , 741.69      , 734.27      ],\n",
       "       [666.62181926, 744.46      , 737.        ],\n",
       "       [667.71358677, 748.65      , 739.3       ],\n",
       "       [669.03175651, 778.55      , 766.77      ],\n",
       "       [670.31480923, 780.43      , 761.09      ],\n",
       "       [671.58299489, 775.84      , 767.85      ],\n",
       "       [672.72961673, 773.21      , 766.82      ],\n",
       "       [673.66278093, 774.07      , 768.79      ],\n",
       "       [674.8934465 , 783.04      , 772.34      ],\n",
       "       [676.36416378, 782.63      , 778.09      ],\n",
       "       [678.18742899, 788.94      , 780.57      ],\n",
       "       [680.44058928, 786.81      , 782.78      ],\n",
       "       [682.80730312, 789.75      , 782.97      ],\n",
       "       [684.96844144, 783.4       , 780.4       ],\n",
       "       [685.29513222, 787.49      , 780.11      ],\n",
       "       [686.11839555, 780.98      , 773.44      ],\n",
       "       [686.8295792 , 780.81      , 773.53      ],\n",
       "       [687.72535147, 782.86      , 777.        ],\n",
       "       [688.45428588, 777.1       , 773.13      ],\n",
       "       [688.82346312, 774.54      , 770.05      ],\n",
       "       [688.81570918, 776.44      , 771.78      ],\n",
       "       [688.53413224, 774.5       , 767.07      ],\n",
       "       [688.09199747, 771.89      , 763.18      ],\n",
       "       [687.4359565 , 776.08      , 765.85      ],\n",
       "       [686.96533723, 774.99      , 766.61      ],\n",
       "       [686.25332051, 774.47      , 766.84      ],\n",
       "       [685.84848155, 769.09      , 765.38      ],\n",
       "       [685.43800337, 771.02      , 764.3       ],\n",
       "       [684.76850515, 773.92      , 768.41      ],\n",
       "       [684.40487101, 782.        , 771.        ],\n",
       "       [684.20298021, 782.73      , 776.2       ],\n",
       "       [683.88949036, 780.35      , 773.58      ],\n",
       "       [683.91015685, 773.24      , 759.66      ],\n",
       "       [684.22556917, 770.29      , 754.        ],\n",
       "       [684.34710096, 766.22      , 755.8       ],\n",
       "       [684.46741519, 767.68      , 759.11      ],\n",
       "       [684.53040794, 773.8       , 759.96      ],\n",
       "       [684.73553488, 769.75      , 764.66      ],\n",
       "       [684.76751188, 774.        , 764.44      ],\n",
       "       [684.44774197, 773.33      , 768.53      ],\n",
       "       [683.78532483, 777.16      , 768.3       ],\n",
       "       [682.80518841, 789.85      , 778.44      ],\n",
       "       [682.04267496, 788.93      , 784.15      ],\n",
       "       [682.13533774, 782.74      , 773.07      ],\n",
       "       [682.97308363, 785.99      , 774.31      ],\n",
       "       [683.81374526, 781.81      , 774.97      ],\n",
       "       [684.79980928, 785.8       , 774.23      ],\n",
       "       [685.65428061, 780.94      , 774.09      ],\n",
       "       [686.41948551, 776.07      , 769.5       ],\n",
       "       [687.05886512, 778.71      , 772.89      ],\n",
       "       [687.69337448, 782.07      , 775.65      ],\n",
       "       [688.11420193, 780.48      , 775.54      ],\n",
       "       [687.78123111, 779.66      , 770.75      ],\n",
       "       [687.15114341, 789.38      , 775.87      ],\n",
       "       [686.99741034, 792.28      , 780.58      ],\n",
       "       [686.92714427, 788.13      , 782.06      ],\n",
       "       [686.93483413, 781.22      , 773.        ],\n",
       "       [686.83528251, 783.95      , 776.        ],\n",
       "       [687.03704515, 785.85      , 777.5       ],\n",
       "       [687.5587379 , 801.61      , 785.57      ],\n",
       "       [687.95341983, 804.6       , 798.03      ],\n",
       "       [688.21811113, 803.97      , 796.03      ],\n",
       "       [688.65752241, 799.5       , 794.        ],\n",
       "       [689.34656568, 815.18      , 804.82      ],\n",
       "       [689.90119665, 816.68      , 805.14      ],\n",
       "       [690.29113651, 806.98      , 796.32      ],\n",
       "       [691.04794665, 803.49      , 791.5       ],\n",
       "       [692.42978199, 815.49      , 793.59      ],\n",
       "       [693.83042545, 796.86      , 784.        ],\n",
       "       [695.27307476, 789.49      , 775.54      ],\n",
       "       [695.98249615, 781.65      , 763.45      ],\n",
       "       [696.0180297 , 769.95      , 759.03      ],\n",
       "       [695.79089054, 770.36      , 750.56      ],\n",
       "       [695.57378023, 785.19      , 772.55      ],\n",
       "       [694.18156357, 795.63      , 780.19      ],\n",
       "       [692.15015955, 791.23      , 771.67      ],\n",
       "       [690.50465822, 791.17      , 752.18      ],\n",
       "       [688.97540189, 760.78      , 750.38      ],\n",
       "       [686.78334393, 757.85      , 727.54      ],\n",
       "       [685.41493379, 764.42      , 746.97      ],\n",
       "       [684.58154549, 766.36      , 750.51      ],\n",
       "       [684.18917051, 772.7       , 764.23      ],\n",
       "       [684.29984038, 775.        , 760.        ],\n",
       "       [684.82922298, 769.7       , 760.6       ],\n",
       "       [683.75988422, 776.96      , 767.        ],\n",
       "       [681.94475744, 768.28      , 755.25      ],\n",
       "       [680.51239332, 765.        , 760.52      ],\n",
       "       [679.34520112, 779.53      , 759.8       ],\n",
       "       [679.95257169, 778.5       , 768.24      ],\n",
       "       [681.30063575, 772.99      , 754.83      ],\n",
       "       [682.2966325 , 759.85      , 737.03      ],\n",
       "       [682.9505908 , 754.        , 743.1       ],\n",
       "       [682.76212521, 763.9       , 752.9       ],\n",
       "       [682.39698514, 768.83      , 757.34      ],\n",
       "       [682.25183908, 771.36      , 755.8       ],\n",
       "       [681.44773632, 778.18      , 767.23      ],\n",
       "       [681.21249076, 789.43      , 779.02      ],\n",
       "       [681.04914537, 791.25      , 784.35      ],\n",
       "       [680.76321084, 804.38      , 793.34      ],\n",
       "       [680.27086771, 804.        , 794.01      ],\n",
       "       [680.63033651, 803.        , 792.92      ],\n",
       "       [682.44674493, 800.86      , 790.29      ],\n",
       "       [684.94034142, 797.66      , 786.27      ],\n",
       "       [686.95280917, 798.65      , 793.27      ],\n",
       "       [688.82307863, 796.68      , 787.1       ],\n",
       "       [690.91648212, 793.32      , 788.58      ],\n",
       "       [692.41302451, 792.74      , 787.28      ],\n",
       "       [693.23285944, 797.86      , 787.66      ],\n",
       "       [693.75147625, 794.23      , 783.2       ],\n",
       "       [693.51651906, 785.93      , 778.92      ],\n",
       "       [693.12427225, 782.78      , 770.41      ]])"
      ]
     },
     "execution_count": 41,
     "metadata": {},
     "output_type": "execute_result"
    }
   ],
   "source": [
    "rev_df=sc.inverse_transform(final_df)\n",
    "rev_df"
   ]
  },
  {
   "cell_type": "code",
   "execution_count": 42,
   "metadata": {},
   "outputs": [
    {
     "data": {
      "text/plain": [
       "(1258, 3)"
      ]
     },
     "execution_count": 42,
     "metadata": {},
     "output_type": "execute_result"
    }
   ],
   "source": [
    "X_inv=sc.inverse_transform(X_scaled)\n",
    "X_inv.shape"
   ]
  },
  {
   "cell_type": "code",
   "execution_count": 70,
   "metadata": {},
   "outputs": [
    {
     "data": {
      "image/png": "[encoded data removed]",
      "text/plain": [
       "<Figure size 432x288 with 1 Axes>"
      ]
     },
     "metadata": {
      "needs_background": "light"
     },
     "output_type": "display_data"
    }
   ],
   "source": [
    "# first of all X_inv was set to valid_pred during inverse_transform \n",
    "# and second valid_pred is scaled version so it will plot a strainght line\n",
    "plt.plot(X_inv[943:,0], label = 'Real Google Stock Price')\n",
    "plt.plot(valid_pred, label = 'Predicted Google Stock Price')\n",
    "plt.title('Google Stock Price Prediction')\n",
    "plt.xlabel('Time')\n",
    "plt.ylabel('Google Stock Price')\n",
    "# Add a legend otherwise label is useless\n",
    "plt.legend()\n",
    "plt.show()"
   ]
  },
  {
   "cell_type": "code",
   "execution_count": 44,
   "metadata": {},
   "outputs": [],
   "source": [
    "DF=df_train[valid_pred.shape[0]*-1:]"
   ]
  },
  {
   "cell_type": "code",
   "execution_count": 51,
   "metadata": {},
   "outputs": [
    {
     "data": {
      "text/plain": [
       "Date                305\n",
       "Open                305\n",
       "High                305\n",
       "Low                 305\n",
       "Close               305\n",
       "Volume              305\n",
       "Prediction_value    305\n",
       "dtype: int64"
      ]
     },
     "execution_count": 51,
     "metadata": {},
     "output_type": "execute_result"
    }
   ],
   "source": [
    "DF.count()"
   ]
  },
  {
   "cell_type": "code",
   "execution_count": 55,
   "metadata": {},
   "outputs": [
    {
     "name": "stderr",
     "output_type": "stream",
     "text": [
      "<ipython-input-55-da4c06bd1f5a>:1: SettingWithCopyWarning: \n",
      "A value is trying to be set on a copy of a slice from a DataFrame.\n",
      "Try using .loc[row_indexer,col_indexer] = value instead\n",
      "\n",
      "See the caveats in the documentation: https://pandas.pydata.org/pandas-docs/stable/user_guide/indexing.html#returning-a-view-versus-a-copy\n",
      "  DF['Prediction_value']=rev_df[:,0]\n"
     ]
    }
   ],
   "source": [
    "DF['Prediction_value']=rev_df[:,0]"
   ]
  },
  {
   "cell_type": "code",
   "execution_count": 47,
   "metadata": {},
   "outputs": [
    {
     "data": {
      "text/plain": [
       "<AxesSubplot:>"
      ]
     },
     "execution_count": 47,
     "metadata": {},
     "output_type": "execute_result"
    },
    {
     "data": {
      "image/png": "[encoded data removed]",
      "text/plain": [
       "<Figure size 432x288 with 1 Axes>"
      ]
     },
     "metadata": {
      "needs_background": "light"
     },
     "output_type": "display_data"
    }
   ],
   "source": [
    "DF[['Open','Prediction_value']].plot()"
   ]
  },
  {
   "cell_type": "markdown",
   "metadata": {},
   "source": [
    "Confidence Interval is calculated for `Estimated Variable`, not for an `independent variable` as you have done."
   ]
  },
  {
   "cell_type": "code",
   "execution_count": 75,
   "metadata": {},
   "outputs": [
    {
     "name": "stdout",
     "output_type": "stream",
     "text": [
      "95% Confidence Interval: [668.8167614648108, 672.2117637285445]\n"
     ]
    }
   ],
   "source": [
    "import scipy.stats as ss\n",
    "\n",
    "confidence = 0.95\n",
    "nsamples = len(DF.Prediction_value)\n",
    "mean = DF.Prediction_value.mean()\n",
    "\n",
    "# Standard Error = se\n",
    "se = ss.sem(DF.Prediction_value)\n",
    "h = se * ss.t.ppf((1 + confidence)/2, nsamples)\n",
    "print(f\"95% Confidence Interval: [{mean - h}, {mean + h}]\")"
   ]
  }
 ],
 "metadata": {
  "kernelspec": {
   "display_name": "Python 3",
   "language": "python",
   "name": "python3"
  },
  "language_info": {
   "codemirror_mode": {
    "name": "ipython",
    "version": 3
   },
   "file_extension": ".py",
   "mimetype": "text/x-python",
   "name": "python",
   "nbconvert_exporter": "python",
   "pygments_lexer": "ipython3",
   "version": "3.8.3"
  },
  "varInspector": {
   "cols": {
    "lenName": 16,
    "lenType": 16,
    "lenVar": 40
   },
   "kernels_config": {
    "python": {
     "delete_cmd_postfix": "",
     "delete_cmd_prefix": "del ",
     "library": "var_list.py",
     "varRefreshCmd": "print(var_dic_list())"
    },
    "r": {
     "delete_cmd_postfix": ") ",
     "delete_cmd_prefix": "rm(",
     "library": "var_list.r",
     "varRefreshCmd": "cat(var_dic_list()) "
    }
   },
   "types_to_exclude": [
    "module",
    "function",
    "builtin_function_or_method",
    "instance",
    "_Feature"
   ],
   "window_display": false
  }
 },
 "nbformat": 4,
 "nbformat_minor": 4
}
